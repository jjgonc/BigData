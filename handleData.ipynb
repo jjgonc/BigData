{
 "cells": [
  {
   "attachments": {},
   "cell_type": "markdown",
   "metadata": {},
   "source": [
    "### Data: Population 1970-1980"
   ]
  },
  {
   "attachments": {},
   "cell_type": "markdown",
   "metadata": {},
   "source": [
    "- Convert txt to CSV"
   ]
  },
  {
   "cell_type": "code",
   "execution_count": null,
   "metadata": {},
   "outputs": [],
   "source": [
    "\"\"\"\n",
    "import csv\n",
    "\n",
    "txt_file = '../datasets/original/1970-1980_population.txt'\n",
    "csv_file = '../datasets/original/1970-1980_population.csv'\n",
    "\n",
    "with open(txt_file, 'r') as file:\n",
    "    lines = file.readlines()\n",
    "\n",
    "# Extracting header and data rows\n",
    "header = [header.strip() for header in lines[0].split()]\n",
    "data_rows = [row.strip().split() for row in lines[1:]]\n",
    "\n",
    "# Renaming \"Fip AL\" to \"State\"\n",
    "header[0] = 'State'\n",
    "\n",
    "# Modifying State column to keep only \"AL\"\n",
    "for row in data_rows:\n",
    "    row[0] = row[0].strip()\n",
    "\n",
    "# Modifying year format\n",
    "for i in range(2, len(header)):\n",
    "    year = header[i].split('/')[2]\n",
    "    header[i] = '19' + year\n",
    "\n",
    "# Writing to CSV file\n",
    "with open(csv_file, 'w', newline='') as file:\n",
    "    writer = csv.writer(file)\n",
    "    writer.writerow(header)\n",
    "    writer.writerows(data_rows)\n",
    "\n",
    "print(f\"Dataset transformed and saved as {csv_file}.\")\n",
    "\"\"\""
   ]
  },
  {
   "attachments": {},
   "cell_type": "markdown",
   "metadata": {},
   "source": [
    "Agrupar idades em 3 grupos\n",
    "- Jovens (0-29)\n",
    "- Adultos (30-65)\n",
    "- Reformados (65+) "
   ]
  },
  {
   "cell_type": "code",
   "execution_count": 51,
   "metadata": {},
   "outputs": [],
   "source": [
    "import csv\n",
    "\n",
    "# Dictionary to store the results per state, age group, and year\n",
    "estados = {}\n",
    "\n",
    "# Open the input CSV file\n",
    "with open('../datasets/original/1970-1980_population_by_state.csv', 'r') as arquivo_csv:\n",
    "    leitor = csv.reader(arquivo_csv, delimiter=',')\n",
    "    \n",
    "    # Ignore the CSV file header\n",
    "    next(leitor)\n",
    "\n",
    "    for linha in leitor:\n",
    "        estado = linha[0]\n",
    "        idade_range = linha[1].replace('+', '').replace('M', '').replace('F', '')\n",
    "        valor = int(linha[2])\n",
    "\n",
    "        # Split the age range and consider the lower bound for grouping\n",
    "        idade_range_parts = idade_range.split('-')\n",
    "        idade = int(idade_range_parts[0])\n",
    "\n",
    "        # Group the ages into three categories: 0-29, 30-65, 65+\n",
    "        if 0 <= idade <= 29:\n",
    "            idade_grupo = 'jovens'\n",
    "        elif 30 <= idade < 65:\n",
    "            idade_grupo = 'adultos'\n",
    "        else:\n",
    "            idade_grupo = 'reformados'\n",
    "\n",
    "        # Check if the state already exists in the dictionary\n",
    "        if estado in estados:\n",
    "            # Check if the age group exists for the state\n",
    "            if idade_grupo in estados[estado]:\n",
    "                # Update the value for the corresponding year\n",
    "                if len(linha) > 2:\n",
    "                    for i, ano in enumerate(range(1970, 1981)):\n",
    "                        if ano in estados[estado][idade_grupo]:\n",
    "                            estados[estado][idade_grupo][ano] += int(linha[i + 2])\n",
    "                        else:\n",
    "                            estados[estado][idade_grupo][ano] = int(linha[i + 2])\n",
    "            else:\n",
    "                # Create a new dictionary for the age group and add the value for each year\n",
    "                estados[estado][idade_grupo] = {}\n",
    "                if len(linha) > 2:\n",
    "                    for i, ano in enumerate(range(1970, 1981)):\n",
    "                        estados[estado][idade_grupo][ano] = int(linha[i + 2])\n",
    "        else:\n",
    "            # Create a new dictionary for the state and add the age group and value for each year\n",
    "            estados[estado] = {idade_grupo: {}}\n",
    "            if len(linha) > 2:\n",
    "                for i, ano in enumerate(range(1970, 1981)):\n",
    "                    estados[estado][idade_grupo][ano] = int(linha[i + 2])\n",
    "\n",
    "# Write the dictionaries to a CSV file\n",
    "output_file = '../datasets/1970-1980_population_by_state.csv'\n",
    "with open(output_file, 'w', newline='') as outfile:\n",
    "    writer = csv.writer(outfile)\n",
    "    writer.writerow(['State', 'Age', '1970', '1971', '1972', '1973', '1974', '1975', '1976', '1977', '1978', '1979', '1980'])\n",
    "    \n",
    "    for estado, faixas_etarias in estados.items():\n",
    "        for faixa_etaria, anos in faixas_etarias.items():\n",
    "            if isinstance(anos, int):  # Handle the case when anos is an integer\n",
    "                writer.writerow([estado, faixa_etaria, anos])\n",
    "            else:\n",
    "                writer.writerow([estado, faixa_etaria, *anos.values()])\n",
    "        \n",
    "        # Calculate the sum for each year\n",
    "        sum_by_year = [sum(anos[ano] for anos in faixas_etarias.values()) for ano in range(1970, 1981)]\n",
    "        writer.writerow([estado, 'all', *sum_by_year])\n"
   ]
  },
  {
   "attachments": {},
   "cell_type": "markdown",
   "metadata": {},
   "source": [
    "### Data: Population 1980-1990 \n",
    "- Convert txt to CSV"
   ]
  },
  {
   "cell_type": "code",
   "execution_count": 63,
   "metadata": {},
   "outputs": [
    {
     "name": "stdout",
     "output_type": "stream",
     "text": [
      "CSV file created successfully.\n"
     ]
    }
   ],
   "source": [
    "import csv\n",
    "\n",
    "input_file = '../datasets/original/1980-1990_population_by_state.txt'\n",
    "output_file = '../datasets/1980-1990_population_by_state.csv'\n",
    "\n",
    "with open(input_file, 'r') as infile, open(output_file, 'w', newline='') as outfile:\n",
    "    writer = csv.writer(outfile)\n",
    "    \n",
    "    writer.writerow(['Record_type', 'FIPS', 'total1980','variation', 'variation_percent'])  # Write column headers\n",
    "    \n",
    "    for line in infile:\n",
    "        line = line.strip()\n",
    "        data = line.split()\n",
    "        \n",
    "        if data[0] == 'A':\n",
    "            writer.writerow([data[0], data[1], data[2], data[3], data[4], data[5]])\n",
    "        elif data[0] == 'B':\n",
    "            writer.writerow([data[0], data[1], data[2]])\n",
    "\n",
    "print(\"CSV file created successfully.\")"
   ]
  }
 ],
 "metadata": {
  "kernelspec": {
   "display_name": "Python 3",
   "language": "python",
   "name": "python3"
  },
  "language_info": {
   "codemirror_mode": {
    "name": "ipython",
    "version": 3
   },
   "file_extension": ".py",
   "mimetype": "text/x-python",
   "name": "python",
   "nbconvert_exporter": "python",
   "pygments_lexer": "ipython3",
   "version": "3.10.11"
  },
  "orig_nbformat": 4
 },
 "nbformat": 4,
 "nbformat_minor": 2
}
