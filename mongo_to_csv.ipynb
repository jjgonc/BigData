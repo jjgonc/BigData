{
 "cells": [
  {
   "attachments": {},
   "cell_type": "markdown",
   "metadata": {},
   "source": [
    "### Imports"
   ]
  },
  {
   "cell_type": "code",
   "execution_count": 1,
   "metadata": {},
   "outputs": [],
   "source": [
    "import pandas as pd\n",
    "import json\n",
    "import numpy as np\n",
    "from pymongo import MongoClient\n",
    "import requests"
   ]
  },
  {
   "attachments": {},
   "cell_type": "markdown",
   "metadata": {},
   "source": [
    "### Obter os dados do MongoDB, guardar em CSV"
   ]
  },
  {
   "cell_type": "code",
   "execution_count": 2,
   "metadata": {},
   "outputs": [
    {
     "name": "stdout",
     "output_type": "stream",
     "text": [
      "Year:  1977\n",
      "Year:  1978\n",
      "Year:  1979\n",
      "Year:  1980\n",
      "Year:  1981\n",
      "Year:  1982\n",
      "Year:  1983\n",
      "Year:  1984\n",
      "Year:  1985\n",
      "Year:  1986\n",
      "Year:  1987\n",
      "Year:  1988\n",
      "Year:  1989\n",
      "Year:  1990\n",
      "Year:  1991\n",
      "Year:  1992\n",
      "Year:  1993\n",
      "Year:  1994\n",
      "Year:  1995\n",
      "Year:  1996\n",
      "Year:  1997\n",
      "Year:  1998\n",
      "Year:  1999\n",
      "Year:  2000\n",
      "Year:  2001\n",
      "Year:  2002\n",
      "Year:  2003\n",
      "Year:  2004\n",
      "Year:  2005\n",
      "Year:  2006\n",
      "Year:  2007\n",
      "Year:  2008\n",
      "Year:  2009\n",
      "Year:  2010\n",
      "Year:  2011\n",
      "Year:  2012\n",
      "Year:  2013\n",
      "Year:  2014\n",
      "Year:  2015\n",
      "Year:  2016\n",
      "Year:  2017\n"
     ]
    }
   ],
   "source": [
    "# Connect to MongoDB\n",
    "client = MongoClient('mongodb://localhost:27017/')\n",
    "db = client['bigdata']\n",
    "\n",
    "# Create an empty DataFrame to store the data\n",
    "df_list = []\n",
    "\n",
    "# Retrieve data for a specific year (e.g., 1990)\n",
    "for year in range(1977, 2018):\n",
    "    print(\"Year: \", year)\n",
    "    collection_name = f\"data_{year}\"\n",
    "    collection = db[collection_name]\n",
    "    \n",
    "    # Fetch all documents from the collection\n",
    "    data_mongo = collection.find()\n",
    "    \n",
    "    # Convert the retrieved data to a DataFrame\n",
    "    df_year = pd.DataFrame(list(data_mongo))\n",
    "    \n",
    "    # Add a 'year' column to the DataFrame\n",
    "    df_year['year'] = year\n",
    "    \n",
    "    # Append the year's data to the list\n",
    "    df_list.append(df_year)\n",
    "\n",
    "# Concatenate all DataFrames in the list\n",
    "df = pd.concat(df_list, ignore_index=True)\n",
    "\n",
    "# Save the DataFrame to an Excel file\n",
    "df.to_csv('data.csv', index=False)\n",
    "\n",
    "# Close the MongoDB connection\n",
    "client.close()\n"
   ]
  },
  {
   "attachments": {},
   "cell_type": "markdown",
   "metadata": {},
   "source": [
    "### Conexão ao PowerBI"
   ]
  },
  {
   "cell_type": "code",
   "execution_count": 3,
   "metadata": {},
   "outputs": [
    {
     "data": {
      "text/plain": [
       "'\\n# Power BI REST API endpoint\\nurl = \\'https://api.powerbi.com/v1.0/myorg/groups/{group_id}/datasets/{dataset_id}/tables/{table_name}/rows\\'\\n# Replace {group_id}, {dataset_id}, and {table_name} with your specific values\\n\\n# Access token\\naccess_token = \\'<your_access_token>\\'\\n\\n# Iterate over the data and send POST requests to Power BI\\nfor row in data_mongo:\\n    headers = {\\n        \\'Content-Type\\': \\'application/json\\',\\n        \\'Authorization\\': f\\'Bearer {access_token}\\'\\n    }\\n    response = requests.post(url, headers=headers, json=row)\\n    print(f\"Status code: {response.status_code}\")\\n\\n'"
      ]
     },
     "execution_count": 3,
     "metadata": {},
     "output_type": "execute_result"
    }
   ],
   "source": [
    "\"\"\"\n",
    "# Power BI REST API endpoint\n",
    "url = 'https://api.powerbi.com/v1.0/myorg/groups/{group_id}/datasets/{dataset_id}/tables/{table_name}/rows'\n",
    "# Replace {group_id}, {dataset_id}, and {table_name} with your specific values\n",
    "\n",
    "# Access token\n",
    "access_token = '<your_access_token>'\n",
    "\n",
    "# Iterate over the data and send POST requests to Power BI\n",
    "for row in data_mongo:\n",
    "    headers = {\n",
    "        'Content-Type': 'application/json',\n",
    "        'Authorization': f'Bearer {access_token}'\n",
    "    }\n",
    "    response = requests.post(url, headers=headers, json=row)\n",
    "    print(f\"Status code: {response.status_code}\")\n",
    "\n",
    "\"\"\""
   ]
  }
 ],
 "metadata": {
  "kernelspec": {
   "display_name": "Python 3",
   "language": "python",
   "name": "python3"
  },
  "language_info": {
   "codemirror_mode": {
    "name": "ipython",
    "version": 3
   },
   "file_extension": ".py",
   "mimetype": "text/x-python",
   "name": "python",
   "nbconvert_exporter": "python",
   "pygments_lexer": "ipython3",
   "version": "3.10.11"
  },
  "orig_nbformat": 4
 },
 "nbformat": 4,
 "nbformat_minor": 2
}
