{
 "cells": [
  {
   "cell_type": "code",
   "execution_count": 1,
   "id": "44bd1715-889a-4e4e-99fa-cc88f009bd07",
   "metadata": {},
   "outputs": [],
   "source": [
    "import pandas as pd\n",
    "import pyarrow as pa\n",
    "import pyarrow.parquet as pq\n",
    "import json"
   ]
  },
  {
   "cell_type": "markdown",
   "id": "4a1b2228-ad9a-4e48-8925-2e986190e0ca",
   "metadata": {},
   "source": [
    "## Carregar os dados"
   ]
  },
  {
   "cell_type": "code",
   "execution_count": 2,
   "id": "724437d3-0c7f-43c5-8707-a039d9a99887",
   "metadata": {},
   "outputs": [],
   "source": [
    "# Carregar o dataset JSON\n",
    "with open('HPI_master.json', 'r') as f:\n",
    "    json_data = json.load(f)\n",
    "\n",
    "# Converter o dataset JSON para um DataFrame do pandas\n",
    "data_json = pd.DataFrame(json_data)\n",
    "\n",
    "# Carregar o dataset CSV - Population size\n",
    "data_csv_ps = pd.read_csv(\"cu.data.19.PopulationSize.csv\")\n",
    "\n",
    "# Carregar o dataset CSV - \n",
    "data_csv_fb = pd.read_csv(\"cu.data.11.USFoodBeverage.csv\")"
   ]
  },
  {
   "cell_type": "markdown",
   "id": "c6573b59-f40b-404f-a2ef-776420531c25",
   "metadata": {},
   "source": [
    "## Converter para Parquet"
   ]
  },
  {
   "cell_type": "markdown",
   "id": "21cdd734-e3ff-4b52-96dd-943191e78667",
   "metadata": {
    "tags": []
   },
   "source": [
    "## Visualizar os dados"
   ]
  },
  {
   "cell_type": "code",
   "execution_count": 3,
   "id": "a881d113-6f6d-4d0b-8470-eacba8626d38",
   "metadata": {},
   "outputs": [
    {
     "data": {
      "text/html": [
       "<div>\n",
       "<style scoped>\n",
       "    .dataframe tbody tr th:only-of-type {\n",
       "        vertical-align: middle;\n",
       "    }\n",
       "\n",
       "    .dataframe tbody tr th {\n",
       "        vertical-align: top;\n",
       "    }\n",
       "\n",
       "    .dataframe thead th {\n",
       "        text-align: right;\n",
       "    }\n",
       "</style>\n",
       "<table border=\"1\" class=\"dataframe\">\n",
       "  <thead>\n",
       "    <tr style=\"text-align: right;\">\n",
       "      <th></th>\n",
       "      <th>hpi_type</th>\n",
       "      <th>hpi_flavor</th>\n",
       "      <th>frequency</th>\n",
       "      <th>level</th>\n",
       "      <th>place_name</th>\n",
       "      <th>place_id</th>\n",
       "      <th>yr</th>\n",
       "      <th>period</th>\n",
       "      <th>index_nsa</th>\n",
       "      <th>index_sa</th>\n",
       "    </tr>\n",
       "  </thead>\n",
       "  <tbody>\n",
       "    <tr>\n",
       "      <th>0</th>\n",
       "      <td>traditional</td>\n",
       "      <td>purchase-only</td>\n",
       "      <td>monthly</td>\n",
       "      <td>USA or Census Division</td>\n",
       "      <td>East North Central Division</td>\n",
       "      <td>DV_ENC</td>\n",
       "      <td>1991</td>\n",
       "      <td>1</td>\n",
       "      <td>100.00</td>\n",
       "      <td>100.0</td>\n",
       "    </tr>\n",
       "    <tr>\n",
       "      <th>1</th>\n",
       "      <td>traditional</td>\n",
       "      <td>purchase-only</td>\n",
       "      <td>monthly</td>\n",
       "      <td>USA or Census Division</td>\n",
       "      <td>East North Central Division</td>\n",
       "      <td>DV_ENC</td>\n",
       "      <td>1991</td>\n",
       "      <td>2</td>\n",
       "      <td>100.91</td>\n",
       "      <td>100.96</td>\n",
       "    </tr>\n",
       "    <tr>\n",
       "      <th>2</th>\n",
       "      <td>traditional</td>\n",
       "      <td>purchase-only</td>\n",
       "      <td>monthly</td>\n",
       "      <td>USA or Census Division</td>\n",
       "      <td>East North Central Division</td>\n",
       "      <td>DV_ENC</td>\n",
       "      <td>1991</td>\n",
       "      <td>3</td>\n",
       "      <td>101.30</td>\n",
       "      <td>100.91</td>\n",
       "    </tr>\n",
       "    <tr>\n",
       "      <th>3</th>\n",
       "      <td>traditional</td>\n",
       "      <td>purchase-only</td>\n",
       "      <td>monthly</td>\n",
       "      <td>USA or Census Division</td>\n",
       "      <td>East North Central Division</td>\n",
       "      <td>DV_ENC</td>\n",
       "      <td>1991</td>\n",
       "      <td>4</td>\n",
       "      <td>101.69</td>\n",
       "      <td>100.98</td>\n",
       "    </tr>\n",
       "    <tr>\n",
       "      <th>4</th>\n",
       "      <td>traditional</td>\n",
       "      <td>purchase-only</td>\n",
       "      <td>monthly</td>\n",
       "      <td>USA or Census Division</td>\n",
       "      <td>East North Central Division</td>\n",
       "      <td>DV_ENC</td>\n",
       "      <td>1991</td>\n",
       "      <td>5</td>\n",
       "      <td>102.32</td>\n",
       "      <td>101.36</td>\n",
       "    </tr>\n",
       "  </tbody>\n",
       "</table>\n",
       "</div>"
      ],
      "text/plain": [
       "      hpi_type     hpi_flavor frequency                   level  \\\n",
       "0  traditional  purchase-only   monthly  USA or Census Division   \n",
       "1  traditional  purchase-only   monthly  USA or Census Division   \n",
       "2  traditional  purchase-only   monthly  USA or Census Division   \n",
       "3  traditional  purchase-only   monthly  USA or Census Division   \n",
       "4  traditional  purchase-only   monthly  USA or Census Division   \n",
       "\n",
       "                    place_name place_id    yr  period  index_nsa index_sa  \n",
       "0  East North Central Division   DV_ENC  1991       1     100.00    100.0  \n",
       "1  East North Central Division   DV_ENC  1991       2     100.91   100.96  \n",
       "2  East North Central Division   DV_ENC  1991       3     101.30   100.91  \n",
       "3  East North Central Division   DV_ENC  1991       4     101.69   100.98  \n",
       "4  East North Central Division   DV_ENC  1991       5     102.32   101.36  "
      ]
     },
     "execution_count": 3,
     "metadata": {},
     "output_type": "execute_result"
    }
   ],
   "source": [
    "data_json.head()"
   ]
  },
  {
   "cell_type": "code",
   "execution_count": 4,
   "id": "25764e50-b56a-499c-89d5-de5489bb229a",
   "metadata": {},
   "outputs": [
    {
     "data": {
      "text/html": [
       "<div>\n",
       "<style scoped>\n",
       "    .dataframe tbody tr th:only-of-type {\n",
       "        vertical-align: middle;\n",
       "    }\n",
       "\n",
       "    .dataframe tbody tr th {\n",
       "        vertical-align: top;\n",
       "    }\n",
       "\n",
       "    .dataframe thead th {\n",
       "        text-align: right;\n",
       "    }\n",
       "</style>\n",
       "<table border=\"1\" class=\"dataframe\">\n",
       "  <thead>\n",
       "    <tr style=\"text-align: right;\">\n",
       "      <th></th>\n",
       "      <th>series_id</th>\n",
       "      <th>year</th>\n",
       "      <th>period</th>\n",
       "      <th>value</th>\n",
       "      <th>footnote_codes</th>\n",
       "    </tr>\n",
       "  </thead>\n",
       "  <tbody>\n",
       "    <tr>\n",
       "      <th>0</th>\n",
       "      <td>CUURA000AA0</td>\n",
       "      <td>1986</td>\n",
       "      <td>M12</td>\n",
       "      <td>100.0</td>\n",
       "      <td>NaN</td>\n",
       "    </tr>\n",
       "    <tr>\n",
       "      <th>1</th>\n",
       "      <td>CUURA000AA0</td>\n",
       "      <td>1987</td>\n",
       "      <td>M01</td>\n",
       "      <td>100.6</td>\n",
       "      <td>NaN</td>\n",
       "    </tr>\n",
       "    <tr>\n",
       "      <th>2</th>\n",
       "      <td>CUURA000AA0</td>\n",
       "      <td>1987</td>\n",
       "      <td>M02</td>\n",
       "      <td>101.1</td>\n",
       "      <td>NaN</td>\n",
       "    </tr>\n",
       "    <tr>\n",
       "      <th>3</th>\n",
       "      <td>CUURA000AA0</td>\n",
       "      <td>1987</td>\n",
       "      <td>M03</td>\n",
       "      <td>101.6</td>\n",
       "      <td>NaN</td>\n",
       "    </tr>\n",
       "    <tr>\n",
       "      <th>4</th>\n",
       "      <td>CUURA000AA0</td>\n",
       "      <td>1987</td>\n",
       "      <td>M04</td>\n",
       "      <td>102.2</td>\n",
       "      <td>NaN</td>\n",
       "    </tr>\n",
       "  </tbody>\n",
       "</table>\n",
       "</div>"
      ],
      "text/plain": [
       "     series_id  year period  value  footnote_codes\n",
       "0  CUURA000AA0  1986    M12  100.0             NaN\n",
       "1  CUURA000AA0  1987    M01  100.6             NaN\n",
       "2  CUURA000AA0  1987    M02  101.1             NaN\n",
       "3  CUURA000AA0  1987    M03  101.6             NaN\n",
       "4  CUURA000AA0  1987    M04  102.2             NaN"
      ]
     },
     "execution_count": 4,
     "metadata": {},
     "output_type": "execute_result"
    }
   ],
   "source": [
    "data_csv_ps.head()"
   ]
  },
  {
   "cell_type": "code",
   "execution_count": 5,
   "id": "814080de-f4e2-4e2c-ac62-191d600577fa",
   "metadata": {},
   "outputs": [
    {
     "data": {
      "text/html": [
       "<div>\n",
       "<style scoped>\n",
       "    .dataframe tbody tr th:only-of-type {\n",
       "        vertical-align: middle;\n",
       "    }\n",
       "\n",
       "    .dataframe tbody tr th {\n",
       "        vertical-align: top;\n",
       "    }\n",
       "\n",
       "    .dataframe thead th {\n",
       "        text-align: right;\n",
       "    }\n",
       "</style>\n",
       "<table border=\"1\" class=\"dataframe\">\n",
       "  <thead>\n",
       "    <tr style=\"text-align: right;\">\n",
       "      <th></th>\n",
       "      <th>series_id</th>\n",
       "      <th>year</th>\n",
       "      <th>period</th>\n",
       "      <th>value</th>\n",
       "      <th>footnote_codes</th>\n",
       "    </tr>\n",
       "  </thead>\n",
       "  <tbody>\n",
       "    <tr>\n",
       "      <th>0</th>\n",
       "      <td>CUSR0000SAF</td>\n",
       "      <td>1967</td>\n",
       "      <td>M01</td>\n",
       "      <td>34.8</td>\n",
       "      <td>NaN</td>\n",
       "    </tr>\n",
       "    <tr>\n",
       "      <th>1</th>\n",
       "      <td>CUSR0000SAF</td>\n",
       "      <td>1967</td>\n",
       "      <td>M02</td>\n",
       "      <td>34.7</td>\n",
       "      <td>NaN</td>\n",
       "    </tr>\n",
       "    <tr>\n",
       "      <th>2</th>\n",
       "      <td>CUSR0000SAF</td>\n",
       "      <td>1967</td>\n",
       "      <td>M03</td>\n",
       "      <td>34.7</td>\n",
       "      <td>NaN</td>\n",
       "    </tr>\n",
       "    <tr>\n",
       "      <th>3</th>\n",
       "      <td>CUSR0000SAF</td>\n",
       "      <td>1967</td>\n",
       "      <td>M04</td>\n",
       "      <td>34.6</td>\n",
       "      <td>NaN</td>\n",
       "    </tr>\n",
       "    <tr>\n",
       "      <th>4</th>\n",
       "      <td>CUSR0000SAF</td>\n",
       "      <td>1967</td>\n",
       "      <td>M05</td>\n",
       "      <td>34.6</td>\n",
       "      <td>NaN</td>\n",
       "    </tr>\n",
       "  </tbody>\n",
       "</table>\n",
       "</div>"
      ],
      "text/plain": [
       "     series_id  year period  value  footnote_codes\n",
       "0  CUSR0000SAF  1967    M01   34.8             NaN\n",
       "1  CUSR0000SAF  1967    M02   34.7             NaN\n",
       "2  CUSR0000SAF  1967    M03   34.7             NaN\n",
       "3  CUSR0000SAF  1967    M04   34.6             NaN\n",
       "4  CUSR0000SAF  1967    M05   34.6             NaN"
      ]
     },
     "execution_count": 5,
     "metadata": {},
     "output_type": "execute_result"
    }
   ],
   "source": [
    "data_csv_fb.head()"
   ]
  },
  {
   "cell_type": "markdown",
   "id": "684e7388-9e68-4a83-9250-4c7ec5b64b8c",
   "metadata": {},
   "source": [
    "#### **Tipos de dados do dataset: Population Size**"
   ]
  },
  {
   "cell_type": "code",
   "execution_count": 6,
   "id": "e2a5708e-7465-4e2f-89c5-60fb1d52c64f",
   "metadata": {},
   "outputs": [
    {
     "name": "stdout",
     "output_type": "stream",
     "text": [
      "<class 'pandas.core.frame.DataFrame'>\n",
      "RangeIndex: 84760 entries, 0 to 84759\n",
      "Data columns (total 5 columns):\n",
      " #   Column          Non-Null Count  Dtype  \n",
      "---  ------          --------------  -----  \n",
      " 0   series_id       84760 non-null  object \n",
      " 1   year            84760 non-null  int64  \n",
      " 2   period          84760 non-null  object \n",
      " 3   value           84760 non-null  float64\n",
      " 4   footnote_codes  0 non-null      float64\n",
      "dtypes: float64(2), int64(1), object(2)\n",
      "memory usage: 3.2+ MB\n"
     ]
    }
   ],
   "source": [
    "data_csv_ps.info()"
   ]
  },
  {
   "cell_type": "markdown",
   "id": "b45295a4-a374-4d00-9394-8f52546cd167",
   "metadata": {},
   "source": [
    "Conseguimos observar a existência de dados do tipo `object`. Poderá ser necessário tratar este tipo de dados."
   ]
  },
  {
   "cell_type": "markdown",
   "id": "365eb01d-ba04-4fe3-9d87-f0c9352110e9",
   "metadata": {},
   "source": [
    "#### **Tipos de dados do dataset Json**"
   ]
  },
  {
   "cell_type": "code",
   "execution_count": 7,
   "id": "5dceddf7-6782-4613-a6d3-371c0ae0f69c",
   "metadata": {},
   "outputs": [
    {
     "data": {
      "text/plain": [
       "hpi_type       object\n",
       "hpi_flavor     object\n",
       "frequency      object\n",
       "level          object\n",
       "place_name     object\n",
       "place_id       object\n",
       "yr              int64\n",
       "period          int64\n",
       "index_nsa     float64\n",
       "index_sa       object\n",
       "dtype: object"
      ]
     },
     "execution_count": 7,
     "metadata": {},
     "output_type": "execute_result"
    }
   ],
   "source": [
    "data_json.dtypes"
   ]
  },
  {
   "cell_type": "markdown",
   "id": "c16a2b15-7462-4349-a2d3-0d68369901da",
   "metadata": {},
   "source": [
    "#### **Verificar os valores da coluna `period`**"
   ]
  },
  {
   "cell_type": "code",
   "execution_count": 8,
   "id": "c8599a5c-94a3-4e54-8770-0398956ec23b",
   "metadata": {},
   "outputs": [
    {
     "name": "stdout",
     "output_type": "stream",
     "text": [
      "The 'period' column contains the following values:\n",
      "['M12' 'M01' 'M02' 'M03' 'M04' 'M05' 'M06' 'M07' 'M08' 'M09' 'M10' 'M11'\n",
      " 'M13' 'S01' 'S02' 'S03']\n"
     ]
    }
   ],
   "source": [
    "# List all the different possible values in the 'period' column\n",
    "period_values = data_csv_ps['period'].unique()\n",
    "print(\"The 'period' column contains the following values:\")\n",
    "print(period_values)"
   ]
  },
  {
   "cell_type": "markdown",
   "id": "627fa9cc-b961-45d6-9742-2039fb3ee8b2",
   "metadata": {
    "tags": []
   },
   "source": [
    "## Tratamento dos Dados"
   ]
  },
  {
   "cell_type": "markdown",
   "id": "964749c0-56f4-403d-8863-9f998d8fec03",
   "metadata": {},
   "source": [
    "### **Transformar `index_sa` em dados numéricos**"
   ]
  },
  {
   "cell_type": "code",
   "execution_count": 9,
   "id": "8f89bc6b-623d-44c6-84e2-1c1703e073f1",
   "metadata": {},
   "outputs": [],
   "source": [
    "data_json['index_sa'] = data_json['index_sa'].astype(float)"
   ]
  },
  {
   "cell_type": "markdown",
   "id": "7f5c3656-876d-41a4-a29e-00fd05c71365",
   "metadata": {},
   "source": [
    "#### **Transformar `period` em dados numéricos**"
   ]
  },
  {
   "cell_type": "code",
   "execution_count": 10,
   "id": "199ef4f2-f8e0-447c-99e4-57a0e715aa50",
   "metadata": {},
   "outputs": [
    {
     "data": {
      "text/plain": [
       "0         1\n",
       "1         2\n",
       "2         3\n",
       "3         4\n",
       "4         5\n",
       "         ..\n",
       "121457    4\n",
       "121458    1\n",
       "121459    2\n",
       "121460    3\n",
       "121461    4\n",
       "Name: period, Length: 121462, dtype: int64"
      ]
     },
     "execution_count": 10,
     "metadata": {},
     "output_type": "execute_result"
    }
   ],
   "source": [
    "# Dicionário para mapear o período número ao valor da string\n",
    "period_map = {\n",
    "    'M01': 1,\n",
    "    'M02': 2,\n",
    "    'M03': 3,\n",
    "    'M04': 4,\n",
    "    'M05': 5,\n",
    "    'M06': 6,\n",
    "    'M07': 7,\n",
    "    'M08': 8,\n",
    "    'M09': 9,\n",
    "    'M10': 10,\n",
    "    'M11': 11,\n",
    "    'M12': 12,\n",
    "    'M13': 13,\n",
    "    'S01': 14,\n",
    "    'S02': 15,\n",
    "    'S03': 16\n",
    "}\n",
    "\n",
    "data_csv_ps['period'] = data_csv_ps[\"period\"].replace(period_map)\n",
    "data_csv_fb['period'] = data_csv_fb[\"period\"].replace(period_map)\n",
    "data_json['period'].astype(str).astype(int)"
   ]
  },
  {
   "cell_type": "markdown",
   "id": "97c7459a-e86b-43a0-bc77-be163af43316",
   "metadata": {},
   "source": [
    "#### **Remover a coluna `footnote_codes`**"
   ]
  },
  {
   "cell_type": "code",
   "execution_count": 11,
   "id": "957b5975-452b-4d27-b68f-198d9aee9071",
   "metadata": {},
   "outputs": [],
   "source": [
    "data_csv_ps.drop(columns=[\"footnote_codes\"], inplace=True)\n",
    "data_csv_fb.drop(columns=[\"footnote_codes\"], inplace=True)"
   ]
  },
  {
   "cell_type": "code",
   "execution_count": 12,
   "id": "41f042f6-bab8-427d-b856-83554b2efbdb",
   "metadata": {},
   "outputs": [
    {
     "data": {
      "text/html": [
       "<div>\n",
       "<style scoped>\n",
       "    .dataframe tbody tr th:only-of-type {\n",
       "        vertical-align: middle;\n",
       "    }\n",
       "\n",
       "    .dataframe tbody tr th {\n",
       "        vertical-align: top;\n",
       "    }\n",
       "\n",
       "    .dataframe thead th {\n",
       "        text-align: right;\n",
       "    }\n",
       "</style>\n",
       "<table border=\"1\" class=\"dataframe\">\n",
       "  <thead>\n",
       "    <tr style=\"text-align: right;\">\n",
       "      <th></th>\n",
       "      <th>series_id</th>\n",
       "      <th>year</th>\n",
       "      <th>period</th>\n",
       "      <th>value</th>\n",
       "    </tr>\n",
       "  </thead>\n",
       "  <tbody>\n",
       "    <tr>\n",
       "      <th>0</th>\n",
       "      <td>CUURA000AA0</td>\n",
       "      <td>1986</td>\n",
       "      <td>12</td>\n",
       "      <td>100.0</td>\n",
       "    </tr>\n",
       "    <tr>\n",
       "      <th>1</th>\n",
       "      <td>CUURA000AA0</td>\n",
       "      <td>1987</td>\n",
       "      <td>1</td>\n",
       "      <td>100.6</td>\n",
       "    </tr>\n",
       "    <tr>\n",
       "      <th>2</th>\n",
       "      <td>CUURA000AA0</td>\n",
       "      <td>1987</td>\n",
       "      <td>2</td>\n",
       "      <td>101.1</td>\n",
       "    </tr>\n",
       "    <tr>\n",
       "      <th>3</th>\n",
       "      <td>CUURA000AA0</td>\n",
       "      <td>1987</td>\n",
       "      <td>3</td>\n",
       "      <td>101.6</td>\n",
       "    </tr>\n",
       "    <tr>\n",
       "      <th>4</th>\n",
       "      <td>CUURA000AA0</td>\n",
       "      <td>1987</td>\n",
       "      <td>4</td>\n",
       "      <td>102.2</td>\n",
       "    </tr>\n",
       "  </tbody>\n",
       "</table>\n",
       "</div>"
      ],
      "text/plain": [
       "     series_id  year  period  value\n",
       "0  CUURA000AA0  1986      12  100.0\n",
       "1  CUURA000AA0  1987       1  100.6\n",
       "2  CUURA000AA0  1987       2  101.1\n",
       "3  CUURA000AA0  1987       3  101.6\n",
       "4  CUURA000AA0  1987       4  102.2"
      ]
     },
     "execution_count": 12,
     "metadata": {},
     "output_type": "execute_result"
    }
   ],
   "source": [
    "data_csv_ps.head()"
   ]
  },
  {
   "cell_type": "code",
   "execution_count": 13,
   "id": "1e49c821-24e5-4c97-af55-fbe33f4430d6",
   "metadata": {},
   "outputs": [
    {
     "data": {
      "text/html": [
       "<div>\n",
       "<style scoped>\n",
       "    .dataframe tbody tr th:only-of-type {\n",
       "        vertical-align: middle;\n",
       "    }\n",
       "\n",
       "    .dataframe tbody tr th {\n",
       "        vertical-align: top;\n",
       "    }\n",
       "\n",
       "    .dataframe thead th {\n",
       "        text-align: right;\n",
       "    }\n",
       "</style>\n",
       "<table border=\"1\" class=\"dataframe\">\n",
       "  <thead>\n",
       "    <tr style=\"text-align: right;\">\n",
       "      <th></th>\n",
       "      <th>series_id</th>\n",
       "      <th>year</th>\n",
       "      <th>period</th>\n",
       "      <th>value</th>\n",
       "    </tr>\n",
       "  </thead>\n",
       "  <tbody>\n",
       "    <tr>\n",
       "      <th>0</th>\n",
       "      <td>CUSR0000SAF</td>\n",
       "      <td>1967</td>\n",
       "      <td>1</td>\n",
       "      <td>34.8</td>\n",
       "    </tr>\n",
       "    <tr>\n",
       "      <th>1</th>\n",
       "      <td>CUSR0000SAF</td>\n",
       "      <td>1967</td>\n",
       "      <td>2</td>\n",
       "      <td>34.7</td>\n",
       "    </tr>\n",
       "    <tr>\n",
       "      <th>2</th>\n",
       "      <td>CUSR0000SAF</td>\n",
       "      <td>1967</td>\n",
       "      <td>3</td>\n",
       "      <td>34.7</td>\n",
       "    </tr>\n",
       "    <tr>\n",
       "      <th>3</th>\n",
       "      <td>CUSR0000SAF</td>\n",
       "      <td>1967</td>\n",
       "      <td>4</td>\n",
       "      <td>34.6</td>\n",
       "    </tr>\n",
       "    <tr>\n",
       "      <th>4</th>\n",
       "      <td>CUSR0000SAF</td>\n",
       "      <td>1967</td>\n",
       "      <td>5</td>\n",
       "      <td>34.6</td>\n",
       "    </tr>\n",
       "  </tbody>\n",
       "</table>\n",
       "</div>"
      ],
      "text/plain": [
       "     series_id  year  period  value\n",
       "0  CUSR0000SAF  1967       1   34.8\n",
       "1  CUSR0000SAF  1967       2   34.7\n",
       "2  CUSR0000SAF  1967       3   34.7\n",
       "3  CUSR0000SAF  1967       4   34.6\n",
       "4  CUSR0000SAF  1967       5   34.6"
      ]
     },
     "execution_count": 13,
     "metadata": {},
     "output_type": "execute_result"
    }
   ],
   "source": [
    "data_csv_fb.head()"
   ]
  },
  {
   "cell_type": "markdown",
   "id": "d3b6208f-8ea5-4adf-a8af-8059c6d4f820",
   "metadata": {},
   "source": [
    "## Tratar Nan Values"
   ]
  },
  {
   "cell_type": "code",
   "execution_count": 14,
   "id": "cb6ed618-ed38-4d1e-b568-d9c547ee3799",
   "metadata": {},
   "outputs": [],
   "source": [
    "median_value = data_json['index_sa'].median()\n",
    "data_json['index_sa'] = data_json['index_sa'].fillna(median_value)"
   ]
  },
  {
   "cell_type": "markdown",
   "id": "6b1843ef-ffd5-43be-9dba-e5b245f46a27",
   "metadata": {},
   "source": [
    "## Converter para Parquet"
   ]
  },
  {
   "cell_type": "code",
   "execution_count": 15,
   "id": "aa22fa1f-7eef-4e81-a810-6fb64a310c9a",
   "metadata": {},
   "outputs": [],
   "source": [
    "data_json.rename(columns = {'yr':'year'}, inplace = True)\n",
    "\n",
    "# Convert to PyArrow table\n",
    "table1 = pa.Table.from_pandas(data_json)\n",
    "table2 = pa.Table.from_pandas(data_csv_ps)\n",
    "table3 = pa.Table.from_pandas(data_csv_fb)\n",
    "\n",
    "# Write to Parquet file\n",
    "pq.write_table(table1, 'data_json.parquet')\n",
    "pq.write_table(table2, 'data_ps.parquet')\n",
    "pq.write_table(table3, 'data_fb.parquet')"
   ]
  },
  {
   "cell_type": "markdown",
   "id": "814f2464-dda7-4921-aaf3-98366a612c9c",
   "metadata": {},
   "source": [
    "## Realizar o Merge dos datasets"
   ]
  },
  {
   "cell_type": "code",
   "execution_count": 23,
   "id": "1dcf5bec-be60-4619-bc89-a93cb20e93e7",
   "metadata": {},
   "outputs": [
    {
     "ename": "TypeError",
     "evalue": "join() takes at least 2 positional arguments (1 given)",
     "output_type": "error",
     "traceback": [
      "\u001b[0;31m---------------------------------------------------------------------------\u001b[0m",
      "\u001b[0;31mTypeError\u001b[0m                                 Traceback (most recent call last)",
      "\u001b[0;32m/tmp/ipykernel_14083/1367365592.py\u001b[0m in \u001b[0;36m<module>\u001b[0;34m\u001b[0m\n\u001b[1;32m      6\u001b[0m \u001b[0;34m\u001b[0m\u001b[0m\n\u001b[1;32m      7\u001b[0m \u001b[0;31m# Join tables based on 'year' and 'period' columns\u001b[0m\u001b[0;34m\u001b[0m\u001b[0;34m\u001b[0m\u001b[0m\n\u001b[0;32m----> 8\u001b[0;31m \u001b[0mmerged_table\u001b[0m \u001b[0;34m=\u001b[0m \u001b[0mtable_json\u001b[0m\u001b[0;34m.\u001b[0m\u001b[0mjoin\u001b[0m\u001b[0;34m(\u001b[0m\u001b[0mtable_ps\u001b[0m\u001b[0;34m,\u001b[0m \u001b[0mon\u001b[0m\u001b[0;34m=\u001b[0m\u001b[0;34m[\u001b[0m\u001b[0;34m'year'\u001b[0m\u001b[0;34m,\u001b[0m \u001b[0;34m'period'\u001b[0m\u001b[0;34m]\u001b[0m\u001b[0;34m)\u001b[0m\u001b[0;34m.\u001b[0m\u001b[0mjoin\u001b[0m\u001b[0;34m(\u001b[0m\u001b[0mtable_fb\u001b[0m\u001b[0;34m,\u001b[0m \u001b[0mon\u001b[0m\u001b[0;34m=\u001b[0m\u001b[0;34m[\u001b[0m\u001b[0;34m'year'\u001b[0m\u001b[0;34m,\u001b[0m \u001b[0;34m'period'\u001b[0m\u001b[0;34m]\u001b[0m\u001b[0;34m)\u001b[0m\u001b[0;34m\u001b[0m\u001b[0;34m\u001b[0m\u001b[0m\n\u001b[0m\u001b[1;32m      9\u001b[0m \u001b[0;34m\u001b[0m\u001b[0m\n\u001b[1;32m     10\u001b[0m \u001b[0;31m# Write merged table to Parquet file\u001b[0m\u001b[0;34m\u001b[0m\u001b[0;34m\u001b[0m\u001b[0m\n",
      "\u001b[0;32m~/anaconda3/lib/python3.9/site-packages/pyarrow/table.pxi\u001b[0m in \u001b[0;36mpyarrow.lib.Table.join\u001b[0;34m()\u001b[0m\n",
      "\u001b[0;31mTypeError\u001b[0m: join() takes at least 2 positional arguments (1 given)"
     ]
    }
   ],
   "source": [
    "# Read Parquet files\n",
    "\n",
    "table_json = pq.read_table('data_json.parquet')\n",
    "table_ps = pq.read_table('data_ps.parquet')\n",
    "table_fb = pq.read_table('data_fb.parquet')\n",
    "\n",
    "# Join tables based on 'year' and 'period' columns\n",
    "merged_table = table_json.join(table_ps, on=['year', 'period']).join(table_fb, on=['year', 'period'])\n",
    "\n",
    "# Write merged table to Parquet file\n",
    "pq.write_table(merged_table, 'merged_data.parquet')"
   ]
  },
  {
   "cell_type": "markdown",
   "id": "38d2f471-1bdb-4e5b-b0e4-b68e795b9dbd",
   "metadata": {},
   "source": [
    "## Parquet"
   ]
  },
  {
   "cell_type": "code",
   "execution_count": null,
   "id": "2030fb2c-3d71-42bf-a71d-0fc581f4079f",
   "metadata": {},
   "outputs": [],
   "source": [
    "# Testar se o parquet está a funcionar\n",
    "table = pq.read_table('merged_data.parquet')\n",
    "\n",
    "# Convert to Pandas DataFrame\n",
    "df = table.to_pandas()\n",
    "\n",
    "df.info()"
   ]
  }
 ],
 "metadata": {
  "kernelspec": {
   "display_name": "Python 3 (ipykernel)",
   "language": "python",
   "name": "python3"
  },
  "language_info": {
   "codemirror_mode": {
    "name": "ipython",
    "version": 3
   },
   "file_extension": ".py",
   "mimetype": "text/x-python",
   "name": "python",
   "nbconvert_exporter": "python",
   "pygments_lexer": "ipython3",
   "version": "3.9.13"
  }
 },
 "nbformat": 4,
 "nbformat_minor": 5
}
