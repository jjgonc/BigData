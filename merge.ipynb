{
 "cells": [
  {
   "cell_type": "code",
   "execution_count": null,
   "id": "44bd1715-889a-4e4e-99fa-cc88f009bd07",
   "metadata": {},
   "outputs": [],
   "source": [
    "import pandas as pd\n",
    "import json\n",
    "import numpy as np"
   ]
  },
  {
   "attachments": {},
   "cell_type": "markdown",
   "id": "4a1b2228-ad9a-4e48-8925-2e986190e0ca",
   "metadata": {},
   "source": [
    "## Carregar os dados"
   ]
  },
  {
   "cell_type": "code",
   "execution_count": null,
   "id": "724437d3-0c7f-43c5-8707-a039d9a99887",
   "metadata": {},
   "outputs": [],
   "source": [
    "# Carregar o dataset JSON - House Price Index (HPI)\n",
    "with open('../datasets/HPI_master.json', 'r') as f:\n",
    "    json_data = json.load(f)\n",
    "\n",
    "data_json = pd.DataFrame(json_data)\n",
    "\n",
    "# Carregar o dataset CSV - Population size\n",
    "data_csv_ps = pd.read_csv(\"../datasets/cu.data.19.PopulationSize.csv\")\n",
    "data_csv_ps = pd.DataFrame(data_csv_ps)\n",
    "\n",
    "# Carregar o dataset CSV - Food & Beverage\n",
    "data_csv_fb = pd.read_csv(\"../datasets/cu.data.11.USFoodBeverage.csv\")\n",
    "data_csv_fb = pd.DataFrame(data_csv_fb)\n"
   ]
  },
  {
   "attachments": {},
   "cell_type": "markdown",
   "id": "21cdd734-e3ff-4b52-96dd-943191e78667",
   "metadata": {
    "tags": []
   },
   "source": [
    "## Visualizar os dados"
   ]
  },
  {
   "cell_type": "code",
   "execution_count": null,
   "id": "a881d113-6f6d-4d0b-8470-eacba8626d38",
   "metadata": {},
   "outputs": [],
   "source": [
    "data_json.head()"
   ]
  },
  {
   "cell_type": "code",
   "execution_count": null,
   "id": "25764e50-b56a-499c-89d5-de5489bb229a",
   "metadata": {},
   "outputs": [],
   "source": [
    "data_csv_ps.head()"
   ]
  },
  {
   "cell_type": "code",
   "execution_count": null,
   "id": "814080de-f4e2-4e2c-ac62-191d600577fa",
   "metadata": {},
   "outputs": [],
   "source": [
    "data_csv_fb.head()"
   ]
  },
  {
   "attachments": {},
   "cell_type": "markdown",
   "id": "7be446a5",
   "metadata": {},
   "source": [
    "#### **Tipos de dados do dataset: Food & Beverage**"
   ]
  },
  {
   "cell_type": "code",
   "execution_count": null,
   "id": "1c43e660",
   "metadata": {},
   "outputs": [],
   "source": [
    "data_csv_fb.info()"
   ]
  },
  {
   "attachments": {},
   "cell_type": "markdown",
   "id": "684e7388-9e68-4a83-9250-4c7ec5b64b8c",
   "metadata": {},
   "source": [
    "#### **Tipos de dados do dataset: Population Size**"
   ]
  },
  {
   "cell_type": "code",
   "execution_count": null,
   "id": "e2a5708e-7465-4e2f-89c5-60fb1d52c64f",
   "metadata": {},
   "outputs": [],
   "source": [
    "data_csv_ps.info()"
   ]
  },
  {
   "attachments": {},
   "cell_type": "markdown",
   "id": "b45295a4-a374-4d00-9394-8f52546cd167",
   "metadata": {},
   "source": [
    "Conseguimos observar a existência de dados do tipo `object`. Poderá ser necessário tratar este tipo de dados."
   ]
  },
  {
   "attachments": {},
   "cell_type": "markdown",
   "id": "365eb01d-ba04-4fe3-9d87-f0c9352110e9",
   "metadata": {},
   "source": [
    "#### **Tipos de dados do dataset Json**"
   ]
  },
  {
   "cell_type": "code",
   "execution_count": null,
   "id": "5dceddf7-6782-4613-a6d3-371c0ae0f69c",
   "metadata": {},
   "outputs": [],
   "source": [
    "data_json.dtypes"
   ]
  },
  {
   "attachments": {},
   "cell_type": "markdown",
   "id": "1636d6e9",
   "metadata": {},
   "source": [
    "### Remover linhas com ano anterior a 1977, uma vez que o dataset FoodBeverage começa nesse ano"
   ]
  },
  {
   "cell_type": "code",
   "execution_count": null,
   "id": "75a9e4c0",
   "metadata": {},
   "outputs": [],
   "source": [
    "print(\"[Dataframes size before]:\\n\\n\")\n",
    "print(\"FB: \", data_csv_fb.count(), \"\\n\")\n",
    "print(\"PS: \", data_csv_ps.count(), \"\\n\")\n",
    "print(\"HPI: \", data_json.count())"
   ]
  },
  {
   "attachments": {},
   "cell_type": "markdown",
   "id": "d117888e",
   "metadata": {},
   "source": [
    "#### Filtrar apenas as colunas com o ano igual ou superior a 1977\n",
    "Uma vez que nem todos os datasets contêm informação de anos anteriores"
   ]
  },
  {
   "cell_type": "code",
   "execution_count": null,
   "id": "63383593",
   "metadata": {},
   "outputs": [],
   "source": [
    "data_csv_fb = data_csv_fb[data_csv_fb['year'] > 1976]\n",
    "data_csv_ps = data_csv_ps[data_csv_ps['year'] > 1976]\n",
    "data_json = data_json[data_json['yr'] > 1976]\n"
   ]
  },
  {
   "cell_type": "code",
   "execution_count": null,
   "id": "ccab45f7",
   "metadata": {},
   "outputs": [],
   "source": [
    "for index, row in data_json.iterrows():\n",
    "    if row['yr'] < 1977:\n",
    "        print(\"Falha detectada na linha\", index)\n",
    "\n",
    "for index, row in data_json.iterrows():\n",
    "    if row['yr'] < 1977:\n",
    "        print(\"Falha detectada na linha\", index)\n",
    "\n",
    "for index, row in data_json.iterrows():\n",
    "    if row['yr'] < 1977:\n",
    "        print(\"Falha detectada na linha\", index)\n"
   ]
  },
  {
   "cell_type": "code",
   "execution_count": null,
   "id": "1e301144",
   "metadata": {},
   "outputs": [],
   "source": [
    "data_json.head()"
   ]
  },
  {
   "cell_type": "code",
   "execution_count": null,
   "id": "d1a10df4",
   "metadata": {},
   "outputs": [],
   "source": [
    "print(\"[Dataframe size after]: FB: \", data_csv_fb.count(), \"PS: \", data_csv_ps.count(), \"HPI: \", data_json.count())"
   ]
  },
  {
   "attachments": {},
   "cell_type": "markdown",
   "id": "b71d0813",
   "metadata": {},
   "source": [
    "#### **Verificar a existência de Missing Values nos Dataframes**"
   ]
  },
  {
   "cell_type": "code",
   "execution_count": null,
   "id": "69e36e6c",
   "metadata": {},
   "outputs": [],
   "source": [
    "print(\"Number of missing values in House Price dataset:\")\n",
    "json_MV = data_json.isnull().sum()\n",
    "print(json_MV)"
   ]
  },
  {
   "cell_type": "code",
   "execution_count": null,
   "id": "7555c8f4",
   "metadata": {},
   "outputs": [],
   "source": [
    "print(\"Number of missing values in FoodBeverage dataset:\")\n",
    "foodBeverage_MV = data_csv_fb.isnull().sum()\n",
    "print(foodBeverage_MV)"
   ]
  },
  {
   "cell_type": "code",
   "execution_count": null,
   "id": "d9c197d0",
   "metadata": {},
   "outputs": [],
   "source": [
    "print(\"Number of missing values in Population Size dataset:\")\n",
    "populationSize_MV = data_csv_ps.isnull().sum()\n",
    "print(populationSize_MV)"
   ]
  },
  {
   "attachments": {},
   "cell_type": "markdown",
   "id": "c16a2b15-7462-4349-a2d3-0d68369901da",
   "metadata": {},
   "source": [
    "#### **Verificar os valores da coluna `period`**"
   ]
  },
  {
   "cell_type": "code",
   "execution_count": null,
   "id": "c8599a5c-94a3-4e54-8770-0398956ec23b",
   "metadata": {},
   "outputs": [],
   "source": [
    "period_values = data_csv_ps['period'].unique()\n",
    "print(\"The 'period' column contains the following values:\")\n",
    "print(period_values)"
   ]
  },
  {
   "attachments": {},
   "cell_type": "markdown",
   "id": "627fa9cc-b961-45d6-9742-2039fb3ee8b2",
   "metadata": {
    "tags": []
   },
   "source": [
    "## Tratamento dos Dados"
   ]
  },
  {
   "attachments": {},
   "cell_type": "markdown",
   "id": "964749c0-56f4-403d-8863-9f998d8fec03",
   "metadata": {},
   "source": [
    "#### **Transformar `index_sa` em dados numéricos**"
   ]
  },
  {
   "cell_type": "code",
   "execution_count": null,
   "id": "8f89bc6b-623d-44c6-84e2-1c1703e073f1",
   "metadata": {},
   "outputs": [],
   "source": [
    "data_json['index_sa'] = data_json['index_sa'].astype(float)"
   ]
  },
  {
   "attachments": {},
   "cell_type": "markdown",
   "id": "7f5c3656-876d-41a4-a29e-00fd05c71365",
   "metadata": {},
   "source": [
    "#### **Transformar `period` em dados numéricos**"
   ]
  },
  {
   "cell_type": "code",
   "execution_count": null,
   "id": "199ef4f2-f8e0-447c-99e4-57a0e715aa50",
   "metadata": {},
   "outputs": [],
   "source": [
    "period_map = {\n",
    "    'M01': 1,\n",
    "    'M02': 2,\n",
    "    'M03': 3,\n",
    "    'M04': 4,\n",
    "    'M05': 5,\n",
    "    'M06': 6,\n",
    "    'M07': 7,\n",
    "    'M08': 8,\n",
    "    'M09': 9,\n",
    "    'M10': 10,\n",
    "    'M11': 11,\n",
    "    'M12': 12,\n",
    "    'M13': 13,\n",
    "    'S01': 14,\n",
    "    'S02': 15,\n",
    "    'S03': 16\n",
    "}\n",
    "\n",
    "data_csv_ps['period'] = data_csv_ps[\"period\"].replace(period_map)\n",
    "data_csv_fb['period'] = data_csv_fb[\"period\"].replace(period_map)\n",
    "data_json['period'].astype(str).astype(int)"
   ]
  },
  {
   "attachments": {},
   "cell_type": "markdown",
   "id": "f0eeb888",
   "metadata": {},
   "source": [
    "#### Usar apenas a média anual"
   ]
  },
  {
   "cell_type": "code",
   "execution_count": null,
   "id": "619a1b1f",
   "metadata": {},
   "outputs": [],
   "source": [
    "# filter the rows where period is not equal to 13\n",
    "data_csv_fb = data_csv_fb[(data_csv_fb['period'] == 13) | (data_csv_fb['year'] == 2017)]\n",
    "\n",
    "data_csv_ps = data_csv_ps[(data_csv_ps['period'] == 13) | (data_csv_ps['year'] == 2017)]"
   ]
  },
  {
   "attachments": {},
   "cell_type": "markdown",
   "id": "97f01240",
   "metadata": {},
   "source": [
    "#### Tratar o ano 2017"
   ]
  },
  {
   "cell_type": "code",
   "execution_count": null,
   "id": "119dd708",
   "metadata": {},
   "outputs": [],
   "source": [
    "# group by series_id and filter rows where year == 2017\n",
    "grouped_fb = data_csv_fb[data_csv_fb['year'] == 2017].groupby('series_id')\n",
    "grouped_ps = data_csv_ps[data_csv_ps['year'] == 2017].groupby('series_id')\n",
    "\n",
    "# create a new DataFrame with the mean value for each group\n",
    "new_data_fb = pd.DataFrame({\n",
    "    'series_id': grouped_fb['series_id'].first(),\n",
    "    'year': 2017,\n",
    "    'period': 13,\n",
    "    'value': grouped_fb['value'].mean(),\n",
    "})\n",
    "\n",
    "# create a new DataFrame with the mean value for each group\n",
    "new_data_ps = pd.DataFrame({\n",
    "    'series_id': grouped_ps['series_id'].first(),\n",
    "    'year': 2017,\n",
    "    'period': 13,\n",
    "    'value': grouped_ps['value'].mean(),\n",
    "})\n",
    "\n",
    "# concatenate the new DataFrame with the remaining rows (where year != 2017)\n",
    "data_csv_fb = pd.concat([new_data_fb, data_csv_fb[data_csv_fb['year'] != 2017]], ignore_index=True)\n",
    "data_csv_ps = pd.concat([new_data_ps, data_csv_ps[data_csv_ps['year'] != 2017]], ignore_index=True)\n"
   ]
  },
  {
   "attachments": {},
   "cell_type": "markdown",
   "id": "aaffada6",
   "metadata": {},
   "source": [
    "#### Tratar dataset json"
   ]
  },
  {
   "cell_type": "code",
   "execution_count": null,
   "id": "871d97a6",
   "metadata": {},
   "outputs": [],
   "source": [
    "# Agrupar os dados por place_id, yr, hpi_flavor\n",
    "groups = data_json.groupby(['place_id', 'yr', 'hpi_flavor', 'level'])\n",
    "\n",
    "# Substituir os documentos de cada ano com as médias do index_nsa e index_sa\n",
    "def replace_docs(group):\n",
    "    mean_nsa = group['index_nsa'].mean()\n",
    "    mean_sa = np.nanmean(group['index_sa'])\n",
    "\n",
    "    # Criar um novo documento para o ano com os valores da média\n",
    "    doc = {\n",
    "        'hpi_type': group['hpi_type'].iloc[0],\n",
    "        'hpi_flavor': group['hpi_flavor'].iloc[0],\n",
    "        'frequency': group['frequency'].iloc[0],\n",
    "        'level': group['level'].iloc[0],\n",
    "        'place_name': group['place_name'].iloc[0],\n",
    "        'place_id': group['place_id'].iloc[0],\n",
    "        'yr': group['yr'].iloc[0],\n",
    "        'index_nsa': mean_nsa,\n",
    "        'index_sa': mean_sa\n",
    "    }\n",
    "\n",
    "    return pd.DataFrame([doc])\n",
    "\n",
    "# Aplicar a função a cada grupo e combinar os resultados\n",
    "result = groups.apply(replace_docs).reset_index(drop=True)\n",
    "\n",
    "data_json = result"
   ]
  },
  {
   "attachments": {},
   "cell_type": "markdown",
   "id": "e442e7f2",
   "metadata": {},
   "source": [
    "#### Remover a coluna `period`"
   ]
  },
  {
   "cell_type": "code",
   "execution_count": null,
   "id": "26e5e9b2",
   "metadata": {},
   "outputs": [],
   "source": [
    "data_csv_fb = data_csv_fb.drop('period', axis=1)\n",
    "data_csv_ps = data_csv_ps.drop('period', axis=1)"
   ]
  },
  {
   "attachments": {},
   "cell_type": "markdown",
   "id": "97c7459a-e86b-43a0-bc77-be163af43316",
   "metadata": {},
   "source": [
    "#### **Remover a coluna `footnote_codes`**"
   ]
  },
  {
   "cell_type": "code",
   "execution_count": null,
   "id": "957b5975-452b-4d27-b68f-198d9aee9071",
   "metadata": {},
   "outputs": [],
   "source": [
    "data_csv_ps.drop(columns=[\"footnote_codes\"], inplace=True)\n",
    "data_csv_fb.drop(columns=[\"footnote_codes\"], inplace=True)"
   ]
  },
  {
   "attachments": {},
   "cell_type": "markdown",
   "id": "30860ae6",
   "metadata": {},
   "source": [
    "#### Tratar da coluna `value`"
   ]
  },
  {
   "cell_type": "code",
   "execution_count": null,
   "id": "7d97e038",
   "metadata": {},
   "outputs": [],
   "source": [
    "\n",
    "data_csv_fb['value'] = data_csv_fb['value'].round(2)\n",
    "data_csv_ps['value'] = data_csv_ps['value'].round(2)\n",
    "data_json['index_nsa'] = data_json['index_nsa'].round(2)\n",
    "data_json['index_sa'] = data_json['index_sa'].round(2)"
   ]
  },
  {
   "attachments": {},
   "cell_type": "markdown",
   "id": "d3b6208f-8ea5-4adf-a8af-8059c6d4f820",
   "metadata": {},
   "source": [
    "#### **Tratar Nan Values**"
   ]
  },
  {
   "cell_type": "code",
   "execution_count": null,
   "id": "cb6ed618-ed38-4d1e-b568-d9c547ee3799",
   "metadata": {},
   "outputs": [],
   "source": [
    "median_value = data_json['index_sa'].median()\n",
    "data_json['index_sa'] = data_json['index_sa'].fillna(median_value)"
   ]
  },
  {
   "attachments": {},
   "cell_type": "markdown",
   "id": "0045c4a4",
   "metadata": {},
   "source": [
    "#### **Renomear colunas**"
   ]
  },
  {
   "attachments": {},
   "cell_type": "markdown",
   "id": "47595164",
   "metadata": {},
   "source": [
    "Estas colunas são necessárias renomear para ser possível efetuar o merge"
   ]
  },
  {
   "cell_type": "code",
   "execution_count": null,
   "id": "16a6a211",
   "metadata": {},
   "outputs": [],
   "source": [
    "data_json.rename(columns = {'yr':'year'}, inplace = True)\n",
    "data_csv_fb.rename(columns = {'value':'valueFoodBeverage'}, inplace = True)\n",
    "data_csv_ps.rename(columns = {'value':'valuePopSize'}, inplace = True)\n",
    "data_csv_fb.rename(columns = {'series_id':'idFoodBeverage'}, inplace = True)\n",
    "data_csv_fb.rename(columns = {'series_id':'idPopSize'}, inplace = True)"
   ]
  },
  {
   "attachments": {},
   "cell_type": "markdown",
   "id": "7c973080",
   "metadata": {},
   "source": [
    "#### Visualizar resultados do tratamento"
   ]
  },
  {
   "cell_type": "code",
   "execution_count": null,
   "id": "6e5da5c4",
   "metadata": {},
   "outputs": [],
   "source": [
    "# Guardar os resultados para novos ficheiros CSV\n",
    "data_csv_fb.to_csv('newFB.csv', index=False)\n",
    "data_csv_ps.to_csv('newPS.csv', index=False)\n",
    "data_json.to_csv('newHPI.csv', index=False)"
   ]
  },
  {
   "attachments": {},
   "cell_type": "markdown",
   "id": "6b1843ef-ffd5-43be-9dba-e5b245f46a27",
   "metadata": {},
   "source": [
    "## Converter para Parquet"
   ]
  },
  {
   "cell_type": "code",
   "execution_count": null,
   "id": "aa22fa1f-7eef-4e81-a810-6fb64a310c9a",
   "metadata": {},
   "outputs": [],
   "source": [
    "pq1 = data_csv_fb.to_parquet('../parquetFiles/data_fb.parquet')\n",
    "pq2 = data_csv_ps.to_parquet('../parquetFiles/data_ps.parquet')\n",
    "pq3 = data_json.to_parquet('../parquetFiles/data_json.parquet')\n",
    "\n",
    "pd.read_parquet('../parquetFiles/data_fb.parquet')\n",
    "pd.read_parquet('../parquetFiles/data_ps.parquet')\n",
    "pd.read_parquet('../parquetFiles/data_json.parquet')"
   ]
  },
  {
   "attachments": {},
   "cell_type": "markdown",
   "id": "814f2464-dda7-4921-aaf3-98366a612c9c",
   "metadata": {},
   "source": [
    "## Realizar o Merge dos datasets"
   ]
  },
  {
   "cell_type": "code",
   "execution_count": null,
   "id": "0a3affdb",
   "metadata": {},
   "outputs": [],
   "source": [
    "from pyspark.sql import SparkSession\n",
    "from pyspark.sql.functions import *\n",
    "from pyspark.sql.types import *\n",
    "\n",
    "spark = SparkSession.builder \\\n",
    "    .appName(\"Conexao ao MongoDB Atlas\") \\\n",
    "    .config(\"spark.jars.packages\", \"org.mongodb.spark:mongo-spark-connector_2.12:2.4.0\") \\\n",
    "    .config(\"spark.driver.memory\", \"8g\") \\\n",
    "    .config(\"spark.executor.memory\", \"8g\") \\\n",
    "    .config(\"spark.executor.cores\", \"4\") \\\n",
    "    .getOrCreate()\n",
    "\n",
    "pq1 = spark.read.format(\"parquet\").load('../parquetFiles/data_fb.parquet')\n",
    "pq2 = spark.read.format(\"parquet\").load('../parquetFiles/data_ps.parquet')\n",
    "pq3 = spark.read.format(\"parquet\").load('../parquetFiles/data_json.parquet')\n",
    "\n",
    "# Merge\n",
    "#df4 = pq1.join(pq2, on=['year'], how='inner').join(pq3, on=['year'], how='inner')\n",
    "df4 = pq2.join(pq3, on=['year'], how='inner')"
   ]
  },
  {
   "attachments": {},
   "cell_type": "markdown",
   "id": "e1d7c1f5",
   "metadata": {},
   "source": [
    "#### **Redução do tamanho do dataset**"
   ]
  },
  {
   "attachments": {},
   "cell_type": "markdown",
   "id": "41f66040",
   "metadata": {},
   "source": [
    "Remover colunas desnecessárias resultantes do merge"
   ]
  },
  {
   "cell_type": "code",
   "execution_count": null,
   "id": "380020de",
   "metadata": {},
   "outputs": [],
   "source": [
    "df4 = df4.drop(\"__index_level_0__\", \"__index_level_0__\", \"__index_level_0__\")"
   ]
  },
  {
   "cell_type": "code",
   "execution_count": null,
   "id": "82cc968a",
   "metadata": {},
   "outputs": [],
   "source": [
    "df4.head(10)"
   ]
  },
  {
   "attachments": {},
   "cell_type": "markdown",
   "id": "6b37c698",
   "metadata": {},
   "source": [
    "Remover valores nulos e duplicados "
   ]
  },
  {
   "cell_type": "code",
   "execution_count": null,
   "id": "1e25e758",
   "metadata": {},
   "outputs": [],
   "source": [
    "df4 = df4.dropna()\n",
    "df4 = df4.dropDuplicates()"
   ]
  },
  {
   "attachments": {},
   "cell_type": "markdown",
   "id": "a0d25ade",
   "metadata": {},
   "source": [
    "Extrair uma amostra do dataset"
   ]
  },
  {
   "cell_type": "code",
   "execution_count": null,
   "id": "e6026a90",
   "metadata": {},
   "outputs": [],
   "source": [
    "#df5 = df4.sample(0.1)\n",
    "df5 = df4\n",
    "#print(\"df5 - Number of rows: \", df5.count())"
   ]
  },
  {
   "attachments": {},
   "cell_type": "markdown",
   "id": "5976782d",
   "metadata": {},
   "source": [
    "----\n",
    "## **Armazenar os dados no MongoDB**"
   ]
  },
  {
   "attachments": {},
   "cell_type": "markdown",
   "id": "acaffa62",
   "metadata": {},
   "source": [
    "### Enviar os dados para o MongoDB"
   ]
  },
  {
   "attachments": {},
   "cell_type": "markdown",
   "id": "79ea04b5",
   "metadata": {},
   "source": [
    "- Teste com dataset menor: Criar as coleções para cada ano"
   ]
  },
  {
   "cell_type": "code",
   "execution_count": null,
   "id": "3f5e6a38",
   "metadata": {},
   "outputs": [],
   "source": [
    "# Funcional\n",
    "\"\"\"\n",
    "import pymongo\n",
    "\n",
    "# Load CSV file into a Spark DataFrame\n",
    "df7 = spark.read.csv(\"newFB.csv\", header=True, inferSchema=True)\n",
    "\n",
    "# Connect to MongoDB\n",
    "client = pymongo.MongoClient(\"mongodb://localhost:27017/\")\n",
    "db = client[\"bigdata\"]\n",
    "\n",
    "# Loop through each year and insert the data into the corresponding collection\n",
    "for year in df7.select('year').distinct().rdd.flatMap(lambda x: x).collect():\n",
    "    collection_name = f\"data_{year}\"\n",
    "    collection = db[collection_name]\n",
    "    year_data = df7.filter(df7.year == year).toJSON().map(lambda x: json.loads(x)).collect()\n",
    "    collection.insert_many(year_data)\n",
    "\"\"\""
   ]
  },
  {
   "attachments": {},
   "cell_type": "markdown",
   "id": "1de47b05",
   "metadata": {},
   "source": [
    "- Teste com dataset maior"
   ]
  },
  {
   "cell_type": "code",
   "execution_count": null,
   "id": "4cbb5d38",
   "metadata": {},
   "outputs": [],
   "source": [
    "import pymongo\n",
    "\n",
    "# Connect to MongoDB\n",
    "client = pymongo.MongoClient(\"mongodb://localhost:27017/\")\n",
    "db = client[\"bigdata\"]\n",
    "\n",
    "try:\n",
    "    print(\"Starting the loop...\") \n",
    "    # Loop through each year and insert the data into the corresponding collection\n",
    "    for year in df5.select('year').distinct().rdd.flatMap(lambda x: x).collect():\n",
    "        print(\"Year: \", year)\n",
    "        collection_name = f\"data_{year}\"\n",
    "        collection = db[collection_name]\n",
    "        year_data = df5.filter(df5.year == year).toJSON().map(lambda x: json.loads(x)).collect()\n",
    "        collection.insert_many(year_data)\n",
    "except Exception as e:\n",
    "    print(\"Error:\", e)"
   ]
  }
 ],
 "metadata": {
  "kernelspec": {
   "display_name": "Python 3 (ipykernel)",
   "language": "python",
   "name": "python3"
  },
  "language_info": {
   "codemirror_mode": {
    "name": "ipython",
    "version": 3
   },
   "file_extension": ".py",
   "mimetype": "text/x-python",
   "name": "python",
   "nbconvert_exporter": "python",
   "pygments_lexer": "ipython3",
   "version": "3.10.11"
  }
 },
 "nbformat": 4,
 "nbformat_minor": 5
}
