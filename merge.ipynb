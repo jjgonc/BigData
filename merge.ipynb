{
 "cells": [
  {
   "cell_type": "code",
   "execution_count": 1,
   "id": "44bd1715-889a-4e4e-99fa-cc88f009bd07",
   "metadata": {},
   "outputs": [],
   "source": [
    "import pandas as pd\n",
    "import json"
   ]
  },
  {
   "cell_type": "markdown",
   "id": "4a1b2228-ad9a-4e48-8925-2e986190e0ca",
   "metadata": {},
   "source": [
    "## Carregar os dados"
   ]
  },
  {
   "cell_type": "code",
   "execution_count": 2,
   "id": "724437d3-0c7f-43c5-8707-a039d9a99887",
   "metadata": {},
   "outputs": [],
   "source": [
    "# Carregar o dataset JSON\n",
    "with open('HPI_master.json', 'r') as f:\n",
    "    json_data = json.load(f)\n",
    "\n",
    "# Converter o dataset JSON para um DataFrame do pandas\n",
    "data_json = pd.DataFrame(json_data)\n",
    "\n",
    "# Carregar o dataset CSV - Population size\n",
    "data_csv_ps = pd.read_csv(\"cu.data.19.PopulationSize.csv\")\n",
    "\n",
    "# Carregar o dataset CSV - \n",
    "data_csv_fb = pd.read_csv(\"cu.data.11.USFoodBeverage.csv\")"
   ]
  },
  {
   "cell_type": "markdown",
   "id": "21cdd734-e3ff-4b52-96dd-943191e78667",
   "metadata": {},
   "source": [
    "## Visualizar os dados"
   ]
  },
  {
   "cell_type": "code",
   "execution_count": 3,
   "id": "a881d113-6f6d-4d0b-8470-eacba8626d38",
   "metadata": {},
   "outputs": [
    {
     "data": {
      "text/html": [
       "<div>\n",
       "<style scoped>\n",
       "    .dataframe tbody tr th:only-of-type {\n",
       "        vertical-align: middle;\n",
       "    }\n",
       "\n",
       "    .dataframe tbody tr th {\n",
       "        vertical-align: top;\n",
       "    }\n",
       "\n",
       "    .dataframe thead th {\n",
       "        text-align: right;\n",
       "    }\n",
       "</style>\n",
       "<table border=\"1\" class=\"dataframe\">\n",
       "  <thead>\n",
       "    <tr style=\"text-align: right;\">\n",
       "      <th></th>\n",
       "      <th>hpi_type</th>\n",
       "      <th>hpi_flavor</th>\n",
       "      <th>frequency</th>\n",
       "      <th>level</th>\n",
       "      <th>place_name</th>\n",
       "      <th>place_id</th>\n",
       "      <th>yr</th>\n",
       "      <th>period</th>\n",
       "      <th>index_nsa</th>\n",
       "      <th>index_sa</th>\n",
       "    </tr>\n",
       "  </thead>\n",
       "  <tbody>\n",
       "    <tr>\n",
       "      <th>0</th>\n",
       "      <td>traditional</td>\n",
       "      <td>purchase-only</td>\n",
       "      <td>monthly</td>\n",
       "      <td>USA or Census Division</td>\n",
       "      <td>East North Central Division</td>\n",
       "      <td>DV_ENC</td>\n",
       "      <td>1991</td>\n",
       "      <td>1</td>\n",
       "      <td>100.00</td>\n",
       "      <td>100.0</td>\n",
       "    </tr>\n",
       "    <tr>\n",
       "      <th>1</th>\n",
       "      <td>traditional</td>\n",
       "      <td>purchase-only</td>\n",
       "      <td>monthly</td>\n",
       "      <td>USA or Census Division</td>\n",
       "      <td>East North Central Division</td>\n",
       "      <td>DV_ENC</td>\n",
       "      <td>1991</td>\n",
       "      <td>2</td>\n",
       "      <td>100.91</td>\n",
       "      <td>100.96</td>\n",
       "    </tr>\n",
       "    <tr>\n",
       "      <th>2</th>\n",
       "      <td>traditional</td>\n",
       "      <td>purchase-only</td>\n",
       "      <td>monthly</td>\n",
       "      <td>USA or Census Division</td>\n",
       "      <td>East North Central Division</td>\n",
       "      <td>DV_ENC</td>\n",
       "      <td>1991</td>\n",
       "      <td>3</td>\n",
       "      <td>101.30</td>\n",
       "      <td>100.91</td>\n",
       "    </tr>\n",
       "    <tr>\n",
       "      <th>3</th>\n",
       "      <td>traditional</td>\n",
       "      <td>purchase-only</td>\n",
       "      <td>monthly</td>\n",
       "      <td>USA or Census Division</td>\n",
       "      <td>East North Central Division</td>\n",
       "      <td>DV_ENC</td>\n",
       "      <td>1991</td>\n",
       "      <td>4</td>\n",
       "      <td>101.69</td>\n",
       "      <td>100.98</td>\n",
       "    </tr>\n",
       "    <tr>\n",
       "      <th>4</th>\n",
       "      <td>traditional</td>\n",
       "      <td>purchase-only</td>\n",
       "      <td>monthly</td>\n",
       "      <td>USA or Census Division</td>\n",
       "      <td>East North Central Division</td>\n",
       "      <td>DV_ENC</td>\n",
       "      <td>1991</td>\n",
       "      <td>5</td>\n",
       "      <td>102.32</td>\n",
       "      <td>101.36</td>\n",
       "    </tr>\n",
       "  </tbody>\n",
       "</table>\n",
       "</div>"
      ],
      "text/plain": [
       "      hpi_type     hpi_flavor frequency                   level  \\\n",
       "0  traditional  purchase-only   monthly  USA or Census Division   \n",
       "1  traditional  purchase-only   monthly  USA or Census Division   \n",
       "2  traditional  purchase-only   monthly  USA or Census Division   \n",
       "3  traditional  purchase-only   monthly  USA or Census Division   \n",
       "4  traditional  purchase-only   monthly  USA or Census Division   \n",
       "\n",
       "                    place_name place_id    yr  period  index_nsa index_sa  \n",
       "0  East North Central Division   DV_ENC  1991       1     100.00    100.0  \n",
       "1  East North Central Division   DV_ENC  1991       2     100.91   100.96  \n",
       "2  East North Central Division   DV_ENC  1991       3     101.30   100.91  \n",
       "3  East North Central Division   DV_ENC  1991       4     101.69   100.98  \n",
       "4  East North Central Division   DV_ENC  1991       5     102.32   101.36  "
      ]
     },
     "execution_count": 3,
     "metadata": {},
     "output_type": "execute_result"
    }
   ],
   "source": [
    "data_json.head()"
   ]
  },
  {
   "cell_type": "code",
   "execution_count": 4,
   "id": "25764e50-b56a-499c-89d5-de5489bb229a",
   "metadata": {},
   "outputs": [
    {
     "data": {
      "text/html": [
       "<div>\n",
       "<style scoped>\n",
       "    .dataframe tbody tr th:only-of-type {\n",
       "        vertical-align: middle;\n",
       "    }\n",
       "\n",
       "    .dataframe tbody tr th {\n",
       "        vertical-align: top;\n",
       "    }\n",
       "\n",
       "    .dataframe thead th {\n",
       "        text-align: right;\n",
       "    }\n",
       "</style>\n",
       "<table border=\"1\" class=\"dataframe\">\n",
       "  <thead>\n",
       "    <tr style=\"text-align: right;\">\n",
       "      <th></th>\n",
       "      <th>series_id</th>\n",
       "      <th>year</th>\n",
       "      <th>period</th>\n",
       "      <th>value</th>\n",
       "      <th>footnote_codes</th>\n",
       "    </tr>\n",
       "  </thead>\n",
       "  <tbody>\n",
       "    <tr>\n",
       "      <th>0</th>\n",
       "      <td>CUURA000AA0</td>\n",
       "      <td>1986</td>\n",
       "      <td>M12</td>\n",
       "      <td>100.0</td>\n",
       "      <td>NaN</td>\n",
       "    </tr>\n",
       "    <tr>\n",
       "      <th>1</th>\n",
       "      <td>CUURA000AA0</td>\n",
       "      <td>1987</td>\n",
       "      <td>M01</td>\n",
       "      <td>100.6</td>\n",
       "      <td>NaN</td>\n",
       "    </tr>\n",
       "    <tr>\n",
       "      <th>2</th>\n",
       "      <td>CUURA000AA0</td>\n",
       "      <td>1987</td>\n",
       "      <td>M02</td>\n",
       "      <td>101.1</td>\n",
       "      <td>NaN</td>\n",
       "    </tr>\n",
       "    <tr>\n",
       "      <th>3</th>\n",
       "      <td>CUURA000AA0</td>\n",
       "      <td>1987</td>\n",
       "      <td>M03</td>\n",
       "      <td>101.6</td>\n",
       "      <td>NaN</td>\n",
       "    </tr>\n",
       "    <tr>\n",
       "      <th>4</th>\n",
       "      <td>CUURA000AA0</td>\n",
       "      <td>1987</td>\n",
       "      <td>M04</td>\n",
       "      <td>102.2</td>\n",
       "      <td>NaN</td>\n",
       "    </tr>\n",
       "  </tbody>\n",
       "</table>\n",
       "</div>"
      ],
      "text/plain": [
       "     series_id  year period  value  footnote_codes\n",
       "0  CUURA000AA0  1986    M12  100.0             NaN\n",
       "1  CUURA000AA0  1987    M01  100.6             NaN\n",
       "2  CUURA000AA0  1987    M02  101.1             NaN\n",
       "3  CUURA000AA0  1987    M03  101.6             NaN\n",
       "4  CUURA000AA0  1987    M04  102.2             NaN"
      ]
     },
     "execution_count": 4,
     "metadata": {},
     "output_type": "execute_result"
    }
   ],
   "source": [
    "data_csv_ps.head()"
   ]
  },
  {
   "cell_type": "code",
   "execution_count": 5,
   "id": "814080de-f4e2-4e2c-ac62-191d600577fa",
   "metadata": {},
   "outputs": [
    {
     "data": {
      "text/html": [
       "<div>\n",
       "<style scoped>\n",
       "    .dataframe tbody tr th:only-of-type {\n",
       "        vertical-align: middle;\n",
       "    }\n",
       "\n",
       "    .dataframe tbody tr th {\n",
       "        vertical-align: top;\n",
       "    }\n",
       "\n",
       "    .dataframe thead th {\n",
       "        text-align: right;\n",
       "    }\n",
       "</style>\n",
       "<table border=\"1\" class=\"dataframe\">\n",
       "  <thead>\n",
       "    <tr style=\"text-align: right;\">\n",
       "      <th></th>\n",
       "      <th>series_id</th>\n",
       "      <th>year</th>\n",
       "      <th>period</th>\n",
       "      <th>value</th>\n",
       "      <th>footnote_codes</th>\n",
       "    </tr>\n",
       "  </thead>\n",
       "  <tbody>\n",
       "    <tr>\n",
       "      <th>0</th>\n",
       "      <td>CUSR0000SAF</td>\n",
       "      <td>1967</td>\n",
       "      <td>M01</td>\n",
       "      <td>34.8</td>\n",
       "      <td>NaN</td>\n",
       "    </tr>\n",
       "    <tr>\n",
       "      <th>1</th>\n",
       "      <td>CUSR0000SAF</td>\n",
       "      <td>1967</td>\n",
       "      <td>M02</td>\n",
       "      <td>34.7</td>\n",
       "      <td>NaN</td>\n",
       "    </tr>\n",
       "    <tr>\n",
       "      <th>2</th>\n",
       "      <td>CUSR0000SAF</td>\n",
       "      <td>1967</td>\n",
       "      <td>M03</td>\n",
       "      <td>34.7</td>\n",
       "      <td>NaN</td>\n",
       "    </tr>\n",
       "    <tr>\n",
       "      <th>3</th>\n",
       "      <td>CUSR0000SAF</td>\n",
       "      <td>1967</td>\n",
       "      <td>M04</td>\n",
       "      <td>34.6</td>\n",
       "      <td>NaN</td>\n",
       "    </tr>\n",
       "    <tr>\n",
       "      <th>4</th>\n",
       "      <td>CUSR0000SAF</td>\n",
       "      <td>1967</td>\n",
       "      <td>M05</td>\n",
       "      <td>34.6</td>\n",
       "      <td>NaN</td>\n",
       "    </tr>\n",
       "  </tbody>\n",
       "</table>\n",
       "</div>"
      ],
      "text/plain": [
       "     series_id  year period  value  footnote_codes\n",
       "0  CUSR0000SAF  1967    M01   34.8             NaN\n",
       "1  CUSR0000SAF  1967    M02   34.7             NaN\n",
       "2  CUSR0000SAF  1967    M03   34.7             NaN\n",
       "3  CUSR0000SAF  1967    M04   34.6             NaN\n",
       "4  CUSR0000SAF  1967    M05   34.6             NaN"
      ]
     },
     "execution_count": 5,
     "metadata": {},
     "output_type": "execute_result"
    }
   ],
   "source": [
    "data_csv_fb.head()"
   ]
  },
  {
   "cell_type": "code",
   "execution_count": 6,
   "id": "e2a5708e-7465-4e2f-89c5-60fb1d52c64f",
   "metadata": {},
   "outputs": [
    {
     "name": "stdout",
     "output_type": "stream",
     "text": [
      "<class 'pandas.core.frame.DataFrame'>\n",
      "RangeIndex: 84760 entries, 0 to 84759\n",
      "Data columns (total 5 columns):\n",
      " #   Column          Non-Null Count  Dtype  \n",
      "---  ------          --------------  -----  \n",
      " 0   series_id       84760 non-null  object \n",
      " 1   year            84760 non-null  int64  \n",
      " 2   period          84760 non-null  object \n",
      " 3   value           84760 non-null  float64\n",
      " 4   footnote_codes  0 non-null      float64\n",
      "dtypes: float64(2), int64(1), object(2)\n",
      "memory usage: 3.2+ MB\n"
     ]
    }
   ],
   "source": [
    "data_csv_ps.info()"
   ]
  },
  {
   "cell_type": "markdown",
   "id": "b45295a4-a374-4d00-9394-8f52546cd167",
   "metadata": {},
   "source": [
    "Conseguimos observar a existência de dados do tipo `object`. Poderá ser necessário tratar este tipo de dados."
   ]
  },
  {
   "cell_type": "code",
   "execution_count": 7,
   "id": "93dc9f40-b818-414b-9956-47c498cb19fb",
   "metadata": {},
   "outputs": [
    {
     "data": {
      "text/plain": [
       "series_id             0\n",
       "year                  0\n",
       "period                0\n",
       "value                 0\n",
       "footnote_codes    84760\n",
       "dtype: int64"
      ]
     },
     "execution_count": 7,
     "metadata": {},
     "output_type": "execute_result"
    }
   ],
   "source": [
    "data_csv_ps.isnull().sum()"
   ]
  },
  {
   "cell_type": "code",
   "execution_count": 8,
   "id": "215830b6-1d07-48a4-a74b-1c744cb14b5f",
   "metadata": {},
   "outputs": [
    {
     "data": {
      "text/plain": [
       "series_id              0\n",
       "year                   0\n",
       "period                 0\n",
       "value                  0\n",
       "footnote_codes    119198\n",
       "dtype: int64"
      ]
     },
     "execution_count": 8,
     "metadata": {},
     "output_type": "execute_result"
    }
   ],
   "source": [
    "data_csv_fb.isnull().sum()"
   ]
  },
  {
   "cell_type": "markdown",
   "id": "627fa9cc-b961-45d6-9742-2039fb3ee8b2",
   "metadata": {},
   "source": [
    "## Tratamento dos Dados"
   ]
  },
  {
   "cell_type": "markdown",
   "id": "7f5c3656-876d-41a4-a29e-00fd05c71365",
   "metadata": {},
   "source": [
    "#### **Transformar `period` em dados numéricos**"
   ]
  },
  {
   "cell_type": "code",
   "execution_count": 9,
   "id": "199ef4f2-f8e0-447c-99e4-57a0e715aa50",
   "metadata": {},
   "outputs": [],
   "source": [
    "# Dicionário para mapear o período número ao valor da string\n",
    "period_map = {\n",
    "    'M01': 1,\n",
    "    'M02': 2,\n",
    "    'M03': 3,\n",
    "    'M04': 4,\n",
    "    'M05': 5,\n",
    "    'M06': 6,\n",
    "    'M07': 7,\n",
    "    'M08': 8,\n",
    "    'M09': 9,\n",
    "    'M10': 10,\n",
    "    'M11': 11,\n",
    "    'M12': 12,\n",
    "    'M13:': 13\n",
    "}\n",
    "\n",
    "data_csv_ps['period'] = data_csv_ps[\"period\"].replace(period_map)\n",
    "data_csv_fb['period'] = data_csv_fb[\"period\"].replace(period_map)"
   ]
  },
  {
   "cell_type": "code",
   "execution_count": 10,
   "id": "30466d37-085f-4898-9ba9-a0f2e58e7a05",
   "metadata": {},
   "outputs": [
    {
     "data": {
      "text/html": [
       "<div>\n",
       "<style scoped>\n",
       "    .dataframe tbody tr th:only-of-type {\n",
       "        vertical-align: middle;\n",
       "    }\n",
       "\n",
       "    .dataframe tbody tr th {\n",
       "        vertical-align: top;\n",
       "    }\n",
       "\n",
       "    .dataframe thead th {\n",
       "        text-align: right;\n",
       "    }\n",
       "</style>\n",
       "<table border=\"1\" class=\"dataframe\">\n",
       "  <thead>\n",
       "    <tr style=\"text-align: right;\">\n",
       "      <th></th>\n",
       "      <th>series_id</th>\n",
       "      <th>year</th>\n",
       "      <th>period</th>\n",
       "      <th>value</th>\n",
       "      <th>footnote_codes</th>\n",
       "    </tr>\n",
       "  </thead>\n",
       "  <tbody>\n",
       "    <tr>\n",
       "      <th>0</th>\n",
       "      <td>CUURA000AA0</td>\n",
       "      <td>1986</td>\n",
       "      <td>12</td>\n",
       "      <td>100.0</td>\n",
       "      <td>NaN</td>\n",
       "    </tr>\n",
       "    <tr>\n",
       "      <th>1</th>\n",
       "      <td>CUURA000AA0</td>\n",
       "      <td>1987</td>\n",
       "      <td>1</td>\n",
       "      <td>100.6</td>\n",
       "      <td>NaN</td>\n",
       "    </tr>\n",
       "    <tr>\n",
       "      <th>2</th>\n",
       "      <td>CUURA000AA0</td>\n",
       "      <td>1987</td>\n",
       "      <td>2</td>\n",
       "      <td>101.1</td>\n",
       "      <td>NaN</td>\n",
       "    </tr>\n",
       "    <tr>\n",
       "      <th>3</th>\n",
       "      <td>CUURA000AA0</td>\n",
       "      <td>1987</td>\n",
       "      <td>3</td>\n",
       "      <td>101.6</td>\n",
       "      <td>NaN</td>\n",
       "    </tr>\n",
       "    <tr>\n",
       "      <th>4</th>\n",
       "      <td>CUURA000AA0</td>\n",
       "      <td>1987</td>\n",
       "      <td>4</td>\n",
       "      <td>102.2</td>\n",
       "      <td>NaN</td>\n",
       "    </tr>\n",
       "  </tbody>\n",
       "</table>\n",
       "</div>"
      ],
      "text/plain": [
       "     series_id  year period  value  footnote_codes\n",
       "0  CUURA000AA0  1986     12  100.0             NaN\n",
       "1  CUURA000AA0  1987      1  100.6             NaN\n",
       "2  CUURA000AA0  1987      2  101.1             NaN\n",
       "3  CUURA000AA0  1987      3  101.6             NaN\n",
       "4  CUURA000AA0  1987      4  102.2             NaN"
      ]
     },
     "execution_count": 10,
     "metadata": {},
     "output_type": "execute_result"
    }
   ],
   "source": [
    "data_csv_ps.head()"
   ]
  },
  {
   "cell_type": "markdown",
   "id": "97c7459a-e86b-43a0-bc77-be163af43316",
   "metadata": {},
   "source": [
    "#### **Remover a coluna `footnote_codes`**"
   ]
  },
  {
   "cell_type": "code",
   "execution_count": 11,
   "id": "957b5975-452b-4d27-b68f-198d9aee9071",
   "metadata": {},
   "outputs": [],
   "source": [
    "data_csv_ps.drop(columns=[\"footnote_codes\"], inplace=True)\n",
    "data_csv_fb.drop(columns=[\"footnote_codes\"], inplace=True)"
   ]
  },
  {
   "cell_type": "code",
   "execution_count": 12,
   "id": "41f042f6-bab8-427d-b856-83554b2efbdb",
   "metadata": {},
   "outputs": [
    {
     "data": {
      "text/html": [
       "<div>\n",
       "<style scoped>\n",
       "    .dataframe tbody tr th:only-of-type {\n",
       "        vertical-align: middle;\n",
       "    }\n",
       "\n",
       "    .dataframe tbody tr th {\n",
       "        vertical-align: top;\n",
       "    }\n",
       "\n",
       "    .dataframe thead th {\n",
       "        text-align: right;\n",
       "    }\n",
       "</style>\n",
       "<table border=\"1\" class=\"dataframe\">\n",
       "  <thead>\n",
       "    <tr style=\"text-align: right;\">\n",
       "      <th></th>\n",
       "      <th>series_id</th>\n",
       "      <th>year</th>\n",
       "      <th>period</th>\n",
       "      <th>value</th>\n",
       "    </tr>\n",
       "  </thead>\n",
       "  <tbody>\n",
       "    <tr>\n",
       "      <th>0</th>\n",
       "      <td>CUURA000AA0</td>\n",
       "      <td>1986</td>\n",
       "      <td>12</td>\n",
       "      <td>100.0</td>\n",
       "    </tr>\n",
       "    <tr>\n",
       "      <th>1</th>\n",
       "      <td>CUURA000AA0</td>\n",
       "      <td>1987</td>\n",
       "      <td>1</td>\n",
       "      <td>100.6</td>\n",
       "    </tr>\n",
       "    <tr>\n",
       "      <th>2</th>\n",
       "      <td>CUURA000AA0</td>\n",
       "      <td>1987</td>\n",
       "      <td>2</td>\n",
       "      <td>101.1</td>\n",
       "    </tr>\n",
       "    <tr>\n",
       "      <th>3</th>\n",
       "      <td>CUURA000AA0</td>\n",
       "      <td>1987</td>\n",
       "      <td>3</td>\n",
       "      <td>101.6</td>\n",
       "    </tr>\n",
       "    <tr>\n",
       "      <th>4</th>\n",
       "      <td>CUURA000AA0</td>\n",
       "      <td>1987</td>\n",
       "      <td>4</td>\n",
       "      <td>102.2</td>\n",
       "    </tr>\n",
       "  </tbody>\n",
       "</table>\n",
       "</div>"
      ],
      "text/plain": [
       "     series_id  year period  value\n",
       "0  CUURA000AA0  1986     12  100.0\n",
       "1  CUURA000AA0  1987      1  100.6\n",
       "2  CUURA000AA0  1987      2  101.1\n",
       "3  CUURA000AA0  1987      3  101.6\n",
       "4  CUURA000AA0  1987      4  102.2"
      ]
     },
     "execution_count": 12,
     "metadata": {},
     "output_type": "execute_result"
    }
   ],
   "source": [
    "data_csv_ps.head()"
   ]
  },
  {
   "cell_type": "code",
   "execution_count": 13,
   "id": "1e49c821-24e5-4c97-af55-fbe33f4430d6",
   "metadata": {},
   "outputs": [
    {
     "data": {
      "text/html": [
       "<div>\n",
       "<style scoped>\n",
       "    .dataframe tbody tr th:only-of-type {\n",
       "        vertical-align: middle;\n",
       "    }\n",
       "\n",
       "    .dataframe tbody tr th {\n",
       "        vertical-align: top;\n",
       "    }\n",
       "\n",
       "    .dataframe thead th {\n",
       "        text-align: right;\n",
       "    }\n",
       "</style>\n",
       "<table border=\"1\" class=\"dataframe\">\n",
       "  <thead>\n",
       "    <tr style=\"text-align: right;\">\n",
       "      <th></th>\n",
       "      <th>series_id</th>\n",
       "      <th>year</th>\n",
       "      <th>period</th>\n",
       "      <th>value</th>\n",
       "    </tr>\n",
       "  </thead>\n",
       "  <tbody>\n",
       "    <tr>\n",
       "      <th>0</th>\n",
       "      <td>CUSR0000SAF</td>\n",
       "      <td>1967</td>\n",
       "      <td>1</td>\n",
       "      <td>34.8</td>\n",
       "    </tr>\n",
       "    <tr>\n",
       "      <th>1</th>\n",
       "      <td>CUSR0000SAF</td>\n",
       "      <td>1967</td>\n",
       "      <td>2</td>\n",
       "      <td>34.7</td>\n",
       "    </tr>\n",
       "    <tr>\n",
       "      <th>2</th>\n",
       "      <td>CUSR0000SAF</td>\n",
       "      <td>1967</td>\n",
       "      <td>3</td>\n",
       "      <td>34.7</td>\n",
       "    </tr>\n",
       "    <tr>\n",
       "      <th>3</th>\n",
       "      <td>CUSR0000SAF</td>\n",
       "      <td>1967</td>\n",
       "      <td>4</td>\n",
       "      <td>34.6</td>\n",
       "    </tr>\n",
       "    <tr>\n",
       "      <th>4</th>\n",
       "      <td>CUSR0000SAF</td>\n",
       "      <td>1967</td>\n",
       "      <td>5</td>\n",
       "      <td>34.6</td>\n",
       "    </tr>\n",
       "  </tbody>\n",
       "</table>\n",
       "</div>"
      ],
      "text/plain": [
       "     series_id  year period  value\n",
       "0  CUSR0000SAF  1967      1   34.8\n",
       "1  CUSR0000SAF  1967      2   34.7\n",
       "2  CUSR0000SAF  1967      3   34.7\n",
       "3  CUSR0000SAF  1967      4   34.6\n",
       "4  CUSR0000SAF  1967      5   34.6"
      ]
     },
     "execution_count": 13,
     "metadata": {},
     "output_type": "execute_result"
    }
   ],
   "source": [
    "data_csv_fb.head()"
   ]
  },
  {
   "cell_type": "markdown",
   "id": "814f2464-dda7-4921-aaf3-98366a612c9c",
   "metadata": {},
   "source": [
    "## Realizar o Merge dos datasets"
   ]
  },
  {
   "cell_type": "code",
   "execution_count": 1,
   "id": "7422274d-7d4f-4623-ae4e-2d4be5b6af4d",
   "metadata": {},
   "outputs": [
    {
     "ename": "NameError",
     "evalue": "name 'pd' is not defined",
     "output_type": "error",
     "traceback": [
      "\u001b[0;31m---------------------------------------------------------------------------\u001b[0m",
      "\u001b[0;31mNameError\u001b[0m                                 Traceback (most recent call last)",
      "\u001b[0;32m/tmp/ipykernel_8217/2628724092.py\u001b[0m in \u001b[0;36m<module>\u001b[0;34m\u001b[0m\n\u001b[1;32m      1\u001b[0m \u001b[0;31m# Fazer merge dos CSV's\u001b[0m\u001b[0;34m\u001b[0m\u001b[0;34m\u001b[0m\u001b[0m\n\u001b[0;32m----> 2\u001b[0;31m \u001b[0mmerged_df\u001b[0m \u001b[0;34m=\u001b[0m \u001b[0mpd\u001b[0m\u001b[0;34m.\u001b[0m\u001b[0mmerge\u001b[0m\u001b[0;34m(\u001b[0m\u001b[0mdata_csv_ps\u001b[0m\u001b[0;34m,\u001b[0m \u001b[0mdata_csv_fb\u001b[0m\u001b[0;34m,\u001b[0m \u001b[0mon\u001b[0m\u001b[0;34m=\u001b[0m\u001b[0;34m[\u001b[0m\u001b[0;34m'year'\u001b[0m\u001b[0;34m,\u001b[0m \u001b[0;34m'period'\u001b[0m\u001b[0;34m]\u001b[0m\u001b[0;34m)\u001b[0m\u001b[0;34m\u001b[0m\u001b[0;34m\u001b[0m\u001b[0m\n\u001b[0m\u001b[1;32m      3\u001b[0m \u001b[0;34m\u001b[0m\u001b[0m\n\u001b[1;32m      4\u001b[0m \u001b[0;31m# Fazer merge do CSV com JSON\u001b[0m\u001b[0;34m\u001b[0m\u001b[0;34m\u001b[0m\u001b[0m\n\u001b[1;32m      5\u001b[0m \u001b[0mdata_json\u001b[0m\u001b[0;34m.\u001b[0m\u001b[0mrename\u001b[0m\u001b[0;34m(\u001b[0m\u001b[0mcolumns\u001b[0m \u001b[0;34m=\u001b[0m \u001b[0;34m{\u001b[0m\u001b[0;34m'yr'\u001b[0m\u001b[0;34m:\u001b[0m\u001b[0;34m'year'\u001b[0m\u001b[0;34m}\u001b[0m\u001b[0;34m,\u001b[0m \u001b[0minplace\u001b[0m \u001b[0;34m=\u001b[0m \u001b[0;32mTrue\u001b[0m\u001b[0;34m)\u001b[0m\u001b[0;34m\u001b[0m\u001b[0;34m\u001b[0m\u001b[0m\n",
      "\u001b[0;31mNameError\u001b[0m: name 'pd' is not defined"
     ]
    }
   ],
   "source": [
    "# Fazer merge dos CSV's\n",
    "merged_df = pd.merge(data_csv_ps, data_csv_fb, on=['year', 'period'])\n",
    "\n",
    "# Fazer merge do CSV com JSON\n",
    "data_json.rename(columns = {'yr':'year'}, inplace = True)\n",
    "\n",
    "# Merge the two dataframes on the common columns 'year' and 'period'\n",
    "merged_data = pd.merge(merged_df, data_json, on=['year', 'period'])\n",
    "\n",
    "# Escrever novo dataset para um ficheiro CSV\n",
    "merged_data.to_csv('merged_data.csv', index=False)\n",
    "\n",
    "# VER artigo: Pandas scaling to large datasets"
   ]
  },
  {
   "cell_type": "markdown",
   "id": "38d2f471-1bdb-4e5b-b0e4-b68e795b9dbd",
   "metadata": {},
   "source": [
    "## Parquet"
   ]
  },
  {
   "cell_type": "code",
   "execution_count": null,
   "id": "2030fb2c-3d71-42bf-a71d-0fc581f4079f",
   "metadata": {},
   "outputs": [],
   "source": [
    "import pyarrow as pa\n",
    "import pyarrow.parquet as pq\n",
    "\n",
    "#pq.write_table(table, 'population_size.parquet')\n",
    "#pq.write_table(table, 'food_beverages.parquet')\n",
    "#pq.write_table(table, 'hpi.parquet')"
   ]
  },
  {
   "cell_type": "code",
   "execution_count": null,
   "id": "af237f76-1226-45bc-b2ae-b4c9bf4ab5b9",
   "metadata": {},
   "outputs": [],
   "source": []
  }
 ],
 "metadata": {
  "kernelspec": {
   "display_name": "Python 3 (ipykernel)",
   "language": "python",
   "name": "python3"
  },
  "language_info": {
   "codemirror_mode": {
    "name": "ipython",
    "version": 3
   },
   "file_extension": ".py",
   "mimetype": "text/x-python",
   "name": "python",
   "nbconvert_exporter": "python",
   "pygments_lexer": "ipython3",
   "version": "3.9.13"
  }
 },
 "nbformat": 4,
 "nbformat_minor": 5
}
