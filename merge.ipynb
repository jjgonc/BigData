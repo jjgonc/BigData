{
 "cells": [
  {
   "cell_type": "code",
   "execution_count": null,
   "id": "44bd1715-889a-4e4e-99fa-cc88f009bd07",
   "metadata": {},
   "outputs": [],
   "source": [
    "import pandas as pd\n",
    "import json\n",
    "import numpy as np"
   ]
  },
  {
   "attachments": {},
   "cell_type": "markdown",
   "id": "4a1b2228-ad9a-4e48-8925-2e986190e0ca",
   "metadata": {},
   "source": [
    "## Carregar os dados"
   ]
  },
  {
   "cell_type": "code",
   "execution_count": null,
   "id": "724437d3-0c7f-43c5-8707-a039d9a99887",
   "metadata": {},
   "outputs": [],
   "source": [
    "with open('../datasets/HPI_master.json', 'r') as f:\n",
    "    json_data = json.load(f)\n",
    "\n",
    "data_json = pd.DataFrame(json_data)\n",
    "\n",
    "# Carregar o dataset CSV - Population size\n",
    "data_csv_ps = pd.read_csv(\"../datasets/US_Population.csv\")\n",
    "data_csv_ps = pd.DataFrame(data_csv_ps)"
   ]
  },
  {
   "attachments": {},
   "cell_type": "markdown",
   "id": "21cdd734-e3ff-4b52-96dd-943191e78667",
   "metadata": {
    "tags": []
   },
   "source": [
    "----\n",
    "## Visualizar os dados"
   ]
  },
  {
   "cell_type": "code",
   "execution_count": null,
   "id": "a881d113-6f6d-4d0b-8470-eacba8626d38",
   "metadata": {},
   "outputs": [],
   "source": [
    "data_json.head()"
   ]
  },
  {
   "cell_type": "code",
   "execution_count": null,
   "id": "25764e50-b56a-499c-89d5-de5489bb229a",
   "metadata": {},
   "outputs": [],
   "source": [
    "data_csv_ps.head()"
   ]
  },
  {
   "attachments": {},
   "cell_type": "markdown",
   "id": "684e7388-9e68-4a83-9250-4c7ec5b64b8c",
   "metadata": {},
   "source": [
    "#### **Tipos de dados do dataset: `Population Size`**"
   ]
  },
  {
   "cell_type": "code",
   "execution_count": null,
   "id": "e2a5708e-7465-4e2f-89c5-60fb1d52c64f",
   "metadata": {},
   "outputs": [],
   "source": [
    "data_csv_ps.info()"
   ]
  },
  {
   "attachments": {},
   "cell_type": "markdown",
   "id": "365eb01d-ba04-4fe3-9d87-f0c9352110e9",
   "metadata": {},
   "source": [
    "#### **Tipos de dados do dataset: `House Price Index`**"
   ]
  },
  {
   "cell_type": "code",
   "execution_count": null,
   "id": "5dceddf7-6782-4613-a6d3-371c0ae0f69c",
   "metadata": {},
   "outputs": [],
   "source": [
    "data_json.dtypes"
   ]
  },
  {
   "attachments": {},
   "cell_type": "markdown",
   "id": "b71d0813",
   "metadata": {},
   "source": [
    "#### **Verificar a existência de Missing Values nos Dataframes**"
   ]
  },
  {
   "cell_type": "code",
   "execution_count": null,
   "id": "69e36e6c",
   "metadata": {},
   "outputs": [],
   "source": [
    "print(\"Number of missing values in House Price dataset:\")\n",
    "json_MV = data_json.isnull().sum()\n",
    "print(json_MV)\n",
    "\n",
    "print(\"Number of nan values in House Price dataset:\")\n",
    "nan_counts = data_json.apply(lambda x: x.value_counts().get('NaN', 0))\n",
    "\n",
    "# Print the number of \"Nan\" values for each column\n",
    "print(nan_counts)"
   ]
  },
  {
   "cell_type": "code",
   "execution_count": null,
   "id": "d9c197d0",
   "metadata": {},
   "outputs": [],
   "source": [
    "print(\"Number of missing values in Population Size dataset:\")\n",
    "populationSize_MV = data_csv_ps.isnull().sum()\n",
    "print(populationSize_MV)"
   ]
  },
  {
   "attachments": {},
   "cell_type": "markdown",
   "id": "627fa9cc-b961-45d6-9742-2039fb3ee8b2",
   "metadata": {
    "tags": []
   },
   "source": [
    "----\n",
    "## Tratamento dos Dados"
   ]
  },
  {
   "attachments": {},
   "cell_type": "markdown",
   "id": "3c9f9771",
   "metadata": {},
   "source": [
    "#### **Filtrar apenas as colunas com `year` igual ou superior a 1977**\n",
    "Uma vez que nem todos os datasets contêm informação de anos anteriores"
   ]
  },
  {
   "cell_type": "code",
   "execution_count": null,
   "id": "66d7fe89",
   "metadata": {},
   "outputs": [],
   "source": [
    "print(\"[Dataframes size before]:\\n\\n\")\n",
    "print(\"PS: \", data_csv_ps.count(), \"\\n\")\n",
    "print(\"HPI: \", data_json.count())"
   ]
  },
  {
   "cell_type": "code",
   "execution_count": null,
   "id": "09424a80",
   "metadata": {},
   "outputs": [],
   "source": [
    "data_csv_ps = data_csv_ps[data_csv_ps['year'] >= 1975]\n",
    "data_json = data_json[data_json['yr'] >= 1975]"
   ]
  },
  {
   "attachments": {},
   "cell_type": "markdown",
   "id": "447c2018",
   "metadata": {},
   "source": [
    "Verificar a correção do tratamento"
   ]
  },
  {
   "cell_type": "code",
   "execution_count": null,
   "id": "2aed5b5f",
   "metadata": {},
   "outputs": [],
   "source": [
    "for index, row in data_json.iterrows():\n",
    "    if row['yr'] < 1975:\n",
    "        print(\"Falha detectada na linha\", index)\n",
    "\n",
    "for index, row in data_json.iterrows():\n",
    "    if row['yr'] < 1975:\n",
    "        print(\"Falha detectada na linha\", index)\n",
    "\n",
    "for index, row in data_json.iterrows():\n",
    "    if row['yr'] < 1975:\n",
    "        print(\"Falha detectada na linha\", index)"
   ]
  },
  {
   "cell_type": "code",
   "execution_count": null,
   "id": "b87fd5b4",
   "metadata": {},
   "outputs": [],
   "source": [
    "data_json.head()"
   ]
  },
  {
   "cell_type": "code",
   "execution_count": null,
   "id": "6a137358",
   "metadata": {},
   "outputs": [],
   "source": [
    "print(\"[Dataframe size after]: PS: \", data_csv_ps.count(), \"HPI: \", data_json.count())"
   ]
  },
  {
   "attachments": {},
   "cell_type": "markdown",
   "id": "964749c0-56f4-403d-8863-9f998d8fec03",
   "metadata": {},
   "source": [
    "#### **Remover a coluna `index_sa`**"
   ]
  },
  {
   "cell_type": "code",
   "execution_count": null,
   "id": "8f89bc6b-623d-44c6-84e2-1c1703e073f1",
   "metadata": {},
   "outputs": [],
   "source": [
    "data_json = data_json.drop('index_sa', axis=1)"
   ]
  },
  {
   "attachments": {},
   "cell_type": "markdown",
   "id": "7f5c3656-876d-41a4-a29e-00fd05c71365",
   "metadata": {},
   "source": [
    "#### **Transformar `period` em dados numéricos**"
   ]
  },
  {
   "cell_type": "code",
   "execution_count": null,
   "id": "199ef4f2-f8e0-447c-99e4-57a0e715aa50",
   "metadata": {},
   "outputs": [],
   "source": [
    "data_json['period'].astype(str).astype(int)"
   ]
  },
  {
   "attachments": {},
   "cell_type": "markdown",
   "id": "9187f30f",
   "metadata": {},
   "source": [
    "#### **Extrair `State` da localização no dataset `json` (House Price Index)**"
   ]
  },
  {
   "cell_type": "code",
   "execution_count": null,
   "id": "41f4dd23",
   "metadata": {},
   "outputs": [],
   "source": [
    "import re\n",
    "\n",
    "state_names = {\n",
    "    \"AL\": \"Alabama\", \"AK\": \"Alaska\", \"AZ\": \"Arizona\", \"AR\": \"Arkansas\", \"CA\": \"California\",\n",
    "    \"CO\": \"Colorado\", \"CT\": \"Connecticut\", \"DE\": \"Delaware\", \"FL\": \"Florida\", \"GA\": \"Georgia\",\n",
    "    \"HI\": \"Hawaii\", \"ID\": \"Idaho\", \"IL\": \"Illinois\", \"IN\": \"Indiana\", \"IA\": \"Iowa\",\n",
    "    \"KS\": \"Kansas\", \"KY\": \"Kentucky\", \"LA\": \"Louisiana\", \"ME\": \"Maine\", \"MD\": \"Maryland\",\n",
    "    \"MA\": \"Massachusetts\", \"MI\": \"Michigan\", \"MN\": \"Minnesota\", \"MS\": \"Mississippi\", \"MO\": \"Missouri\",\n",
    "    \"MT\": \"Montana\", \"NE\": \"Nebraska\", \"NV\": \"Nevada\", \"NH\": \"New Hampshire\", \"NJ\": \"New Jersey\",\n",
    "    \"NM\": \"New Mexico\", \"NY\": \"New York\", \"NC\": \"North Carolina\", \"ND\": \"North Dakota\", \"OH\": \"Ohio\",\n",
    "    \"OK\": \"Oklahoma\", \"OR\": \"Oregon\", \"PA\": \"Pennsylvania\", \"RI\": \"Rhode Island\", \"SC\": \"South Carolina\",\n",
    "    \"SD\": \"South Dakota\", \"TN\": \"Tennessee\", \"TX\": \"Texas\", \"UT\": \"Utah\", \"VT\": \"Vermont\",\n",
    "    \"VA\": \"Virginia\", \"WA\": \"Washington\", \"WV\": \"West Virginia\", \"WI\": \"Wisconsin\", \"WY\": \"Wyoming\",\n",
    "    \"Alabama\": \"Alabama\", \"Alaska\": \"Alaska\", \"Arizona\": \"Arizona\", \"Arkansas\": \"Arkansas\",\n",
    "    \"California\": \"California\", \"Colorado\": \"Colorado\", \"Connecticut\": \"Connecticut\", \"Delaware\": \"Delaware\",\n",
    "    \"Florida\": \"Florida\", \"Georgia\": \"Georgia\", \"Hawaii\": \"Hawaii\", \"Idaho\": \"Idaho\", \"Illinois\": \"Illinois\",\n",
    "    \"Indiana\": \"Indiana\", \"Iowa\": \"Iowa\", \"Kansas\": \"Kansas\", \"Kentucky\": \"Kentucky\", \"Louisiana\": \"Louisiana\",\n",
    "    \"Maine\": \"Maine\", \"Maryland\": \"Maryland\", \"Massachusetts\": \"Massachusetts\", \"Michigan\": \"Michigan\",\n",
    "    \"Minnesota\": \"Minnesota\", \"Mississippi\": \"Mississippi\", \"Missouri\": \"Missouri\", \"Montana\": \"Montana\",\n",
    "    \"Nebraska\": \"Nebraska\", \"Nevada\": \"Nevada\", \"New Hampshire\": \"New Hampshire\", \"New Jersey\": \"New Jersey\",\n",
    "    \"New Mexico\": \"New Mexico\", \"New York\": \"New York\", \"North Carolina\": \"North Carolina\",\n",
    "    \"North Dakota\": \"North Dakota\", \"Ohio\": \"Ohio\", \"Oklahoma\": \"Oklahoma\", \"Oregon\": \"Oregon\",\n",
    "    \"Pennsylvania\": \"Pennsylvania\", \"Rhode Island\": \"Rhode Island\", \"South Carolina\": \"South Carolina\",\n",
    "    \"South Dakota\": \"South Dakota\", \"Tennessee\": \"Tennessee\", \"Texas\": \"Texas\", \"Utah\": \"Utah\",\n",
    "    \"Vermont\": \"Vermont\", \"Virginia\": \"Virginia\", \"Washington\": \"Washington\", \"West Virginia\": \"West Virginia\",\n",
    "    \"Wisconsin\": \"Wisconsin\", \"Wyoming\": \"Wyoming\", \"Puerto Rico\": \"Puerto Rico\", \"United States\": \"United States\",\n",
    "    \"East North Central Division\": \"East North Central Division\", \"East South Central Division\": \"East South Central Division\",\n",
    "    \"Middle Atlantic Division\": \"Middle Atlantic Division\", \"Mountain Division\": \"Mountain Division\", \"New England Division\": \"New England Division\",\n",
    "    \"South Atlantic Division\": \"South Atlantic Division\", \"West North Central Division\": \"West North Central Division\",\n",
    "    \"West South Central Division\": \"West South Central Division\", \"Pacific Division\": \"Pacific Division\"\n",
    "}\n",
    "\n",
    "\n",
    "# Define the array of values\n",
    "special_names = [\n",
    "    \"Alaska\", \"Alabama\", \"Arkansas\", \"Arizona\", \"California\", \"Colorado\", \"Connecticut\", \"District of Columbia\",\n",
    "    \"Delaware\", \"East North Central Division\", \"East South Central Division\", \"Middle Atlantic Division\",\n",
    "    \"Mountain Division\", \"New England Division\", \"Pacific Division\", \"South Atlantic Division\",\n",
    "    \"West North Central Division\", \"West South Central Division\", \"Florida\", \"Georgia\", \"Hawaii\", \"Iowa\", \"Idaho\",\n",
    "    \"Illinois\", \"Indiana\", \"Kansas\", \"Kentucky\", \"Louisiana\", \"Massachusetts\", \"Maryland\", \"Maine\", \"Michigan\",\n",
    "    \"Minnesota\", \"Missouri\", \"Mississippi\", \"Montana\", \"North Carolina\", \"North Dakota\", \"Nebraska\",\n",
    "    \"New Hampshire\", \"New Jersey\", \"New Mexico\", \"Nevada\", \"New York\", \"Ohio\", \"Oklahoma\", \"Oregon\", \"Pennsylvania\",\n",
    "    \"Puerto Rico\", \"Rhode Island\", \"South Carolina\", \"South Dakota\", \"Tennessee\", \"Texas\", \"United States\", \"Utah\",\n",
    "    \"Virginia\", \"Vermont\", \"Washington\", \"Wisconsin\", \"West Virginia\", \"Wyoming\"\n",
    "]\n",
    "\n",
    "def extract_state(place_name):\n",
    "    if place_name not in special_names:\n",
    "        state = re.findall(r'\\b([A-Z]{2})\\b', place_name)\n",
    "        if state:\n",
    "            return state[0]\n",
    "    return place_name\n",
    "\n",
    "data_json[\"state\"] = data_json[\"place_name\"].map(extract_state)\n",
    "data_json[\"state\"] = data_json[\"state\"].map(state_names)"
   ]
  },
  {
   "attachments": {},
   "cell_type": "markdown",
   "id": "30860ae6",
   "metadata": {},
   "source": [
    "#### **Tratar a coluna `value`**"
   ]
  },
  {
   "cell_type": "code",
   "execution_count": null,
   "id": "7d97e038",
   "metadata": {},
   "outputs": [],
   "source": [
    "data_json['index_nsa'] = data_json['index_nsa'].round(2)"
   ]
  },
  {
   "attachments": {},
   "cell_type": "markdown",
   "id": "7cd5d7ba",
   "metadata": {},
   "source": [
    "#### **Tratar a coluna `State`**"
   ]
  },
  {
   "cell_type": "code",
   "execution_count": null,
   "id": "05877e9a",
   "metadata": {},
   "outputs": [],
   "source": [
    "# Replace 'DC' with 'District of Columbia' in the 'state' column of the DataFrame\n",
    "data_csv_ps['state'] = data_csv_ps['state'].replace('DC', 'District of Columbia')\n",
    "\n",
    "data_csv_ps['state'] = data_csv_ps['state'].replace('US', 'United States')"
   ]
  },
  {
   "attachments": {},
   "cell_type": "markdown",
   "id": "0045c4a4",
   "metadata": {},
   "source": [
    "#### **Renomear colunas**"
   ]
  },
  {
   "attachments": {},
   "cell_type": "markdown",
   "id": "47595164",
   "metadata": {},
   "source": [
    "Estas colunas são necessárias renomear para ser possível efetuar o merge"
   ]
  },
  {
   "cell_type": "code",
   "execution_count": null,
   "id": "16a6a211",
   "metadata": {},
   "outputs": [],
   "source": [
    "data_csv_ps.rename(columns = {'all':'populationSize'}, inplace = True)\n",
    "data_json.rename(columns = {'yr':'year'}, inplace = True)"
   ]
  },
  {
   "cell_type": "code",
   "execution_count": null,
   "metadata": {},
   "outputs": [],
   "source": [
    "data_json['level'].unique()"
   ]
  },
  {
   "attachments": {},
   "cell_type": "markdown",
   "id": "e6b90e05",
   "metadata": {},
   "source": [
    "#### **Remover colunas**"
   ]
  },
  {
   "cell_type": "code",
   "execution_count": null,
   "id": "42be8291",
   "metadata": {},
   "outputs": [],
   "source": [
    "data_json.drop(['hpi_type', 'hpi_flavor', 'frequency', 'place_id', 'level'], axis=1, inplace=True)"
   ]
  },
  {
   "attachments": {},
   "cell_type": "markdown",
   "id": "4e26410b",
   "metadata": {},
   "source": [
    "#### **Agrupar dataset `HPI` (json) por estado e ano**"
   ]
  },
  {
   "cell_type": "code",
   "execution_count": null,
   "id": "ead6e1a0",
   "metadata": {},
   "outputs": [],
   "source": [
    "# Define a dictionary to map states with their IDs\n",
    "state_id_map = {\n",
    "    'United States': 0,\n",
    "    'Alabama': 1,\n",
    "    'Alaska': 2,\n",
    "    'Arizona': 4,\n",
    "    'Arkansas': 5,\n",
    "    'California': 6,\n",
    "    'Colorado': 8,\n",
    "    'Connecticut': 9,\n",
    "    'Delaware': 10,\n",
    "    'District of Columbia': 11,\n",
    "    'Florida': 12,\n",
    "    'Georgia': 13,\n",
    "    'Hawaii': 15,\n",
    "    'Idaho': 16,\n",
    "    'Illinois': 17,\n",
    "    'Indiana': 18,\n",
    "    'Iowa': 19,\n",
    "    'Kansas': 20,\n",
    "    'Kentucky': 21,\n",
    "    'Louisiana': 22,\n",
    "    'Maine': 23,\n",
    "    'Maryland': 24,\n",
    "    'Massachusetts': 25,\n",
    "    'Michigan': 26,\n",
    "    'Minnesota': 27,\n",
    "    'Mississippi': 28,\n",
    "    'Missouri': 29,\n",
    "    'Montana': 30,\n",
    "    'Nebraska': 31,\n",
    "    'Nevada': 32,\n",
    "    'New Hampshire': 33,\n",
    "    'New Jersey': 34,\n",
    "    'New Mexico': 35,\n",
    "    'New York': 36,\n",
    "    'North Carolina': 37,\n",
    "    'North Dakota': 38,\n",
    "    'Ohio': 39,\n",
    "    'Oklahoma': 40,\n",
    "    'Oregon': 41,\n",
    "    'Pennsylvania': 42,\n",
    "    'Rhode Island': 44,\n",
    "    'South Carolina': 45,\n",
    "    'South Dakota': 46,\n",
    "    'Tennessee': 47,\n",
    "    'Texas': 48,\n",
    "    'Utah': 49,\n",
    "    'Vermont': 50,\n",
    "    'Virginia': 51,\n",
    "    'Washington': 53,\n",
    "    'West Virginia': 54,\n",
    "    'Wisconsin': 55,\n",
    "    'Wyoming': 56,\n",
    "    'Puerto Rico': 72,\n",
    "    'Virgin Islands': 78,\n",
    "    'East North Central Division': 80,\n",
    "    'East South Central Division': 81,\n",
    "    'West North Central Division': 82,\n",
    "    'West South Central Division': 83,\n",
    "    'Middle Atlantic Division': 84,\n",
    "    'South Atlantic Division': 85,\n",
    "    'Pacific Division': 86,\n",
    "    'Mountain Division': 87,\n",
    "    'New England Division': 88\n",
    "}\n",
    "\n",
    "# Group the data by state and year and calculate the average of index values\n",
    "grouped_data = data_json.groupby(['state', 'year']).agg({'index_nsa': 'mean'})\n",
    "\n",
    "# Reset the index of the grouped DataFrame\n",
    "grouped_data = grouped_data.reset_index()\n",
    "\n",
    "# Round the 'index_nsa' column to 2 decimal places\n",
    "grouped_data['index_nsa'] = grouped_data['index_nsa'].round(2)"
   ]
  },
  {
   "attachments": {},
   "cell_type": "markdown",
   "id": "dca13b0a",
   "metadata": {},
   "source": [
    "#### **Adicionar `state_id` ao dataset `HPI` (json) agrupado por estado e ano**"
   ]
  },
  {
   "cell_type": "code",
   "execution_count": null,
   "id": "6e49d254",
   "metadata": {},
   "outputs": [],
   "source": [
    "# Add a new column 'state_id' with the corresponding state ID using the dictionary\n",
    "grouped_data['state_id'] = grouped_data['state'].map(state_id_map)\n",
    "\n",
    "# Replace missing or invalid state IDs with a placeholder value, such as -1\n",
    "grouped_data['state_id'] = grouped_data['state_id'].fillna(-1).astype(int)\n",
    "\n",
    "# Reorder the columns to include 'state_id' as the first column\n",
    "grouped_data = grouped_data[['state_id', 'state', 'year', 'index_nsa']]"
   ]
  },
  {
   "attachments": {},
   "cell_type": "markdown",
   "id": "aa54284b",
   "metadata": {},
   "source": [
    "#### **Visualizar resultados do tratamento**"
   ]
  },
  {
   "cell_type": "code",
   "execution_count": null,
   "id": "fd614eb4",
   "metadata": {},
   "outputs": [],
   "source": [
    "# Guardar os resultados para novos ficheiros CSV\n",
    "data_csv_ps.to_csv('newPS.csv', index=False)\n",
    "grouped_data.to_csv('newHPI.csv', index=False)"
   ]
  },
  {
   "attachments": {},
   "cell_type": "markdown",
   "id": "6b1843ef-ffd5-43be-9dba-e5b245f46a27",
   "metadata": {},
   "source": [
    "----\n",
    "## Converter para Parquet"
   ]
  },
  {
   "cell_type": "code",
   "execution_count": null,
   "id": "aa22fa1f-7eef-4e81-a810-6fb64a310c9a",
   "metadata": {},
   "outputs": [],
   "source": [
    "pq_population = data_csv_ps.to_parquet('../parquetFiles/data_ps.parquet')\n",
    "pq_housing = grouped_data.to_parquet('../parquetFiles/data_json.parquet')"
   ]
  },
  {
   "attachments": {},
   "cell_type": "markdown",
   "id": "814f2464-dda7-4921-aaf3-98366a612c9c",
   "metadata": {},
   "source": [
    "## Realizar o Merge dos datasets"
   ]
  },
  {
   "cell_type": "code",
   "execution_count": null,
   "id": "0a3affdb",
   "metadata": {},
   "outputs": [],
   "source": [
    "from pyspark.sql import SparkSession\n",
    "from pyspark.sql.functions import *\n",
    "from pyspark.sql.types import *\n",
    "\n",
    "spark = SparkSession.builder \\\n",
    "    .appName(\"Conexao ao MongoDB Atlas\") \\\n",
    "    .config(\"spark.jars.packages\", \"org.mongodb.spark:mongo-spark-connector_2.12:2.4.0\") \\\n",
    "    .config(\"spark.driver.memory\", \"8g\") \\\n",
    "    .config(\"spark.executor.memory\", \"8g\") \\\n",
    "    .config(\"spark.executor.cores\", \"4\") \\\n",
    "    .getOrCreate()\n",
    "\n",
    "pq_population = spark.read.format(\"parquet\").load('../parquetFiles/data_ps.parquet') # population size\n",
    "pq_housing = spark.read.format(\"parquet\").load('../parquetFiles/data_json.parquet') # habitacao\n",
    "\n",
    "# Merge\n",
    "df_merged = pq_population.join(pq_housing, on=['state_id', 'state', 'year'], how='inner')"
   ]
  },
  {
   "attachments": {},
   "cell_type": "markdown",
   "id": "e1d7c1f5",
   "metadata": {},
   "source": [
    "#### **Redução do tamanho do dataset**"
   ]
  },
  {
   "attachments": {},
   "cell_type": "markdown",
   "id": "41f66040",
   "metadata": {},
   "source": [
    "- Remover colunas desnecessárias resultantes do merge\n",
    "- Remover valores nulos e duplicados"
   ]
  },
  {
   "cell_type": "code",
   "execution_count": null,
   "id": "380020de",
   "metadata": {},
   "outputs": [],
   "source": [
    "df_merged = df_merged.drop(\"__index_level_0__\")\n",
    "# Show the merged data\n",
    "df_merged.show(40)"
   ]
  },
  {
   "attachments": {},
   "cell_type": "markdown",
   "id": "a0d25ade",
   "metadata": {},
   "source": [
    "Extrair uma amostra do dataset"
   ]
  },
  {
   "cell_type": "code",
   "execution_count": null,
   "id": "e6026a90",
   "metadata": {},
   "outputs": [],
   "source": [
    "df_final = df_merged"
   ]
  },
  {
   "attachments": {},
   "cell_type": "markdown",
   "id": "5976782d",
   "metadata": {},
   "source": [
    "----\n",
    "## **Armazenar os dados no MongoDB**"
   ]
  },
  {
   "attachments": {},
   "cell_type": "markdown",
   "id": "acaffa62",
   "metadata": {},
   "source": [
    "### Enviar os dados para o MongoDB"
   ]
  },
  {
   "cell_type": "code",
   "execution_count": null,
   "id": "4cbb5d38",
   "metadata": {},
   "outputs": [],
   "source": [
    "import pymongo\n",
    "import re\n",
    "\n",
    "# Connect to MongoDB\n",
    "client = pymongo.MongoClient(\"mongodb://localhost:27017/\")\n",
    "db = client[\"bigdata\"]\n"
   ]
  }
 ],
 "metadata": {
  "kernelspec": {
   "display_name": "Python 3 (ipykernel)",
   "language": "python",
   "name": "python3"
  },
  "language_info": {
   "codemirror_mode": {
    "name": "ipython",
    "version": 3
   },
   "file_extension": ".py",
   "mimetype": "text/x-python",
   "name": "python",
   "nbconvert_exporter": "python",
   "pygments_lexer": "ipython3",
   "version": "3.10.11"
  }
 },
 "nbformat": 4,
 "nbformat_minor": 5
}
